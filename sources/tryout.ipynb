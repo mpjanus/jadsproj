{
 "cells": [
  {
   "cell_type": "code",
   "execution_count": null,
   "metadata": {},
   "outputs": [],
   "source": [
    "import numpy as np\n",
    "import imgutils\n",
    "import matplotlib.pyplot as plt"
   ]
  },
  {
   "cell_type": "code",
   "execution_count": null,
   "metadata": {},
   "outputs": [],
   "source": [
    "df_imgfiles = imgutils.scanimgdir('../data/Crystals_Apr_12/Tileset6_subset', '.tif')\n",
    "img = imgutils.loadtiff(df_imgfiles['filename'][1])"
   ]
  },
  {
   "cell_type": "code",
   "execution_count": null,
   "metadata": {},
   "outputs": [],
   "source": [
    "print(np.min(img))"
   ]
  },
  {
   "cell_type": "code",
   "execution_count": null,
   "metadata": {},
   "outputs": [],
   "source": [
    "a = np.histogram(img, 8192)"
   ]
  },
  {
   "cell_type": "code",
   "execution_count": null,
   "metadata": {},
   "outputs": [],
   "source": []
  },
  {
   "cell_type": "code",
   "execution_count": null,
   "metadata": {},
   "outputs": [],
   "source": [
    "def mvalue(hist):\n",
    "    sum = 0\n",
    "    prevcount = hist[0]\n",
    "    for index, count in np.ndenumerate(hist):\n",
    "        if (index == 0): continue\n",
    "        sum = sum + np.abs(count - prevcount)\n",
    "        prevcount = count\n",
    "    mvalue = sum / np.max(hist)\n",
    "    return mvalue"
   ]
  },
  {
   "cell_type": "code",
   "execution_count": null,
   "metadata": {},
   "outputs": [],
   "source": [
    "m = imgutils.img_shapevalue(img)\n",
    "print(m)"
   ]
  },
  {
   "cell_type": "code",
   "execution_count": null,
   "metadata": {},
   "outputs": [],
   "source": [
    "hist = np.histogram(img, 1024)[0]\n",
    "plt.plot(hist)"
   ]
  },
  {
   "cell_type": "code",
   "execution_count": null,
   "metadata": {},
   "outputs": [],
   "source": [
    "img2 = img[256:512,0:100]"
   ]
  },
  {
   "cell_type": "code",
   "execution_count": null,
   "metadata": {},
   "outputs": [],
   "source": [
    "m2 = imgutils.img_shapevalue(img2)\n",
    "print(m2)"
   ]
  },
  {
   "cell_type": "code",
   "execution_count": null,
   "metadata": {},
   "outputs": [],
   "source": [
    "hist2 = imgutils.img_histogram(img, 1024)\n",
    "plt.plot(hist2)"
   ]
  },
  {
   "cell_type": "code",
   "execution_count": null,
   "metadata": {},
   "outputs": [],
   "source": [
    "def smooth(hist, window=5):\n",
    "    sigma = window\n",
    "    gaussian_func = lambda x, sigma: 1/np.sqrt(2*np.pi*sigma**2) * np.exp(-(x**2)/(2*sigma**2))\n",
    "    gau_x = np.linspace(-2.7*sigma, 2.7*sigma, 6*sigma)\n",
    "    gau_mask = gaussian_func(gau_x, sigma)\n",
    "    return np.convolve(hist, gau_mask, 'same')\n",
    "    "
   ]
  },
  {
   "cell_type": "code",
   "execution_count": null,
   "metadata": {},
   "outputs": [],
   "source": [
    "hist2 = np.histogram(img2, bins=1024)[0]\n",
    "hist3 = imgutils.smooth_histogram(hist2,4)\n",
    "m3 = imgutils.img_shapevalue(img2)\n",
    "print(m3)\n",
    "plt.plot(hist3)"
   ]
  },
  {
   "cell_type": "code",
   "execution_count": null,
   "metadata": {},
   "outputs": [],
   "source": [
    "imgutils.showimg(img)"
   ]
  },
  {
   "cell_type": "code",
   "execution_count": null,
   "metadata": {},
   "outputs": [],
   "source": [
    "imgutils.showimg(img2)"
   ]
  },
  {
   "cell_type": "code",
   "execution_count": null,
   "metadata": {},
   "outputs": [],
   "source": [
    "print(np.min(img2))"
   ]
  },
  {
   "cell_type": "code",
   "execution_count": null,
   "metadata": {},
   "outputs": [],
   "source": [
    "h = imgutils.img_histogram(img2, 65536, normalize=False)"
   ]
  },
  {
   "cell_type": "code",
   "execution_count": null,
   "metadata": {},
   "outputs": [],
   "source": [
    "mean2 =imgutils.img_mean(img2)\n",
    "low2 = imgutils.img_blacktail(img2, 0.001)\n",
    "high2 = imgutils.img_whitetail(img2, 0.001)\n",
    "print(mean2, low2, high2)"
   ]
  },
  {
   "cell_type": "code",
   "execution_count": null,
   "metadata": {},
   "outputs": [],
   "source": [
    "h3 = np.histogram(img2, 8, range=(low2,high2), density=False)\n",
    "h4 = h3[0] # smooth(h3[0],3)\n",
    "print(mvalue(h4))\n",
    "plt.plot(h4)\n",
    "print(imgutils.img_quartile1(img2), imgutils.img_quartile2(img2), imgutils.img_quartile3(img2)) "
   ]
  },
  {
   "cell_type": "markdown",
   "metadata": {},
   "source": [
    "# plt.plot(h[0])"
   ]
  },
  {
   "cell_type": "code",
   "execution_count": null,
   "metadata": {},
   "outputs": [],
   "source": [
    "img3 = img[256:512,100:200]\n",
    "imgutils.showimg(img3)\n",
    "print(imgutils.img_quartile1(img3), imgutils.img_quartile2(img3), imgutils.img_quartile3(img3)) "
   ]
  },
  {
   "cell_type": "code",
   "execution_count": null,
   "metadata": {},
   "outputs": [],
   "source": [
    "h3 = np.histogram(img3, 10, density=False)\n",
    "h4 = h3[0] # smooth(h3[0],32)\n",
    "print(mvalue(h4))\n",
    "print(imgutils.img_shapevalue(img3))\n",
    "plt.plot(h4)"
   ]
  },
  {
   "cell_type": "code",
   "execution_count": null,
   "metadata": {},
   "outputs": [],
   "source": [
    "h = imgutils.img_histogram(img)\n",
    "plt.plot(h)"
   ]
  },
  {
   "cell_type": "code",
   "execution_count": null,
   "metadata": {},
   "outputs": [],
   "source": [
    "h2 = imgutils.img_histogram(img, bins=100, ref_interval_only=True)\n",
    "h3 = imgutils.smooth_histogram(h2, 3)\n",
    "plt.plot(h3)"
   ]
  },
  {
   "cell_type": "code",
   "execution_count": null,
   "metadata": {},
   "outputs": [],
   "source": [
    "img2 = img[256:512,0:100]\n",
    "img3 = img[256:512,100:200]\n",
    "h2 = imgutils.img_histogram(img2, bins=100, ref_interval_only=True)\n",
    "h2 = imgutils.smooth_histogram(h2, 3)\n",
    "h3 = imgutils.img_histogram(img3, bins=100, ref_interval_only=True)\n",
    "h3 = imgutils.smooth_histogram(h3, 3)\n",
    "plt.plot(h2)\n",
    "plt.plot(h3)\n",
    "print(imgutils.img_shapevalue(img2, bins=100, smoothing_window=5, dynamic_range_only=True))\n",
    "print(imgutils.img_shapevalue(img3, bins=100, smoothing_window=5, dynamic_range_only=True))\n"
   ]
  },
  {
   "cell_type": "code",
   "execution_count": null,
   "metadata": {},
   "outputs": [],
   "source": []
  }
 ],
 "metadata": {
  "kernelspec": {
   "display_name": "Python 3",
   "language": "python",
   "name": "python3"
  },
  "language_info": {
   "codemirror_mode": {
    "name": "ipython",
    "version": 3
   },
   "file_extension": ".py",
   "mimetype": "text/x-python",
   "name": "python",
   "nbconvert_exporter": "python",
   "pygments_lexer": "ipython3",
   "version": "3.6.4"
  }
 },
 "nbformat": 4,
 "nbformat_minor": 1
}
