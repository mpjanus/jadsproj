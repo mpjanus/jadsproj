{
 "cells": [
  {
   "cell_type": "markdown",
   "metadata": {},
   "source": [
    "# Try-out with all kinds of statistics on harder dataset\n",
    "(upto July 3 2018)"
   ]
  },
  {
   "cell_type": "code",
   "execution_count": null,
   "metadata": {},
   "outputs": [],
   "source": [
    "import numpy as np\n",
    "import imgutils\n",
    "import matplotlib.pyplot as plt"
   ]
  },
  {
   "cell_type": "code",
   "execution_count": null,
   "metadata": {},
   "outputs": [],
   "source": [
    "# Re-run this cell if you altered imgutils or imgutils_test\n",
    "import importlib\n",
    "importlib.reload(imgutils)"
   ]
  },
  {
   "cell_type": "code",
   "execution_count": null,
   "metadata": {},
   "outputs": [],
   "source": [
    "df_imgfiles = imgutils.scanimgdir('../data/Crystals_Apr_12/Tileset6_subset', '.tif')\n",
    "img = imgutils.loadtiff(df_imgfiles['filename'][1])"
   ]
  },
  {
   "cell_type": "code",
   "execution_count": null,
   "metadata": {},
   "outputs": [],
   "source": [
    "print(np.min(img))"
   ]
  },
  {
   "cell_type": "code",
   "execution_count": null,
   "metadata": {},
   "outputs": [],
   "source": [
    "a = np.histogram(img, 8192)"
   ]
  },
  {
   "cell_type": "code",
   "execution_count": null,
   "metadata": {},
   "outputs": [],
   "source": []
  },
  {
   "cell_type": "code",
   "execution_count": null,
   "metadata": {},
   "outputs": [],
   "source": [
    "def mvalue(hist):\n",
    "    sum = 0\n",
    "    prevcount = hist[0]\n",
    "    for index, count in np.ndenumerate(hist):\n",
    "        if (index == 0): continue\n",
    "        sum = sum + np.abs(count - prevcount)\n",
    "        prevcount = count\n",
    "    mvalue = sum / np.max(hist)\n",
    "    return mvalue"
   ]
  },
  {
   "cell_type": "code",
   "execution_count": null,
   "metadata": {},
   "outputs": [],
   "source": [
    "m = imgutils.img_shapevalue(img)\n",
    "print(m)"
   ]
  },
  {
   "cell_type": "code",
   "execution_count": null,
   "metadata": {},
   "outputs": [],
   "source": [
    "hist = np.histogram(img, 1024)[0]\n",
    "plt.plot(hist)"
   ]
  },
  {
   "cell_type": "code",
   "execution_count": null,
   "metadata": {},
   "outputs": [],
   "source": [
    "img2 = img[256:512,0:100]"
   ]
  },
  {
   "cell_type": "code",
   "execution_count": null,
   "metadata": {},
   "outputs": [],
   "source": [
    "m2 = imgutils.img_shapevalue(img2)\n",
    "print(m2)"
   ]
  },
  {
   "cell_type": "code",
   "execution_count": null,
   "metadata": {},
   "outputs": [],
   "source": [
    "hist2 = imgutils.img_histogram(img, 1024)[0]\n",
    "plt.plot(hist2)"
   ]
  },
  {
   "cell_type": "code",
   "execution_count": null,
   "metadata": {},
   "outputs": [],
   "source": [
    "def smooth(hist, window=5):\n",
    "    sigma = window\n",
    "    gaussian_func = lambda x, sigma: 1/np.sqrt(2*np.pi*sigma**2) * np.exp(-(x**2)/(2*sigma**2))\n",
    "    gau_x = np.linspace(-2.7*sigma, 2.7*sigma, 6*sigma)\n",
    "    gau_mask = gaussian_func(gau_x, sigma)\n",
    "    return np.convolve(hist, gau_mask, 'same')\n",
    "    "
   ]
  },
  {
   "cell_type": "code",
   "execution_count": null,
   "metadata": {},
   "outputs": [],
   "source": [
    "hist2 = np.histogram(img2, bins=1024)[0]\n",
    "hist3 = imgutils.smooth_histogram(hist2,4)\n",
    "m3 = imgutils.img_shapevalue(img2)\n",
    "print(m3)\n",
    "plt.plot(hist3)"
   ]
  },
  {
   "cell_type": "code",
   "execution_count": null,
   "metadata": {},
   "outputs": [],
   "source": [
    "imgutils.showimg(img)"
   ]
  },
  {
   "cell_type": "code",
   "execution_count": null,
   "metadata": {},
   "outputs": [],
   "source": [
    "imgutils.showimg(img2)"
   ]
  },
  {
   "cell_type": "code",
   "execution_count": null,
   "metadata": {},
   "outputs": [],
   "source": [
    "print(np.min(img2))"
   ]
  },
  {
   "cell_type": "code",
   "execution_count": null,
   "metadata": {},
   "outputs": [],
   "source": [
    "h = imgutils.img_histogram(img2, 65536, normalize=False)"
   ]
  },
  {
   "cell_type": "code",
   "execution_count": null,
   "metadata": {},
   "outputs": [],
   "source": [
    "mean2 =imgutils.img_mean(img2)\n",
    "low2 = imgutils.img_blacktail(img2, 0.001)\n",
    "high2 = imgutils.img_whitetail(img2, 0.001)\n",
    "print(mean2, low2, high2)"
   ]
  },
  {
   "cell_type": "code",
   "execution_count": null,
   "metadata": {},
   "outputs": [],
   "source": [
    "h3 = np.histogram(img2, 8, range=(low2,high2), density=False)\n",
    "h4 = h3[0] # smooth(h3[0],3)\n",
    "print(mvalue(h4))\n",
    "plt.plot(h4)\n",
    "print(imgutils.img_quartile1(img2), imgutils.img_quartile2(img2), imgutils.img_quartile3(img2)) "
   ]
  },
  {
   "cell_type": "markdown",
   "metadata": {},
   "source": [
    "# plt.plot(h[0])"
   ]
  },
  {
   "cell_type": "code",
   "execution_count": null,
   "metadata": {},
   "outputs": [],
   "source": [
    "img3 = img[256:512,100:200]\n",
    "imgutils.showimg(img3)\n",
    "print(imgutils.img_quartile1(img3), imgutils.img_quartile2(img3), imgutils.img_quartile3(img3)) "
   ]
  },
  {
   "cell_type": "code",
   "execution_count": null,
   "metadata": {},
   "outputs": [],
   "source": [
    "h3 = np.histogram(img3, 10, density=False)\n",
    "h4 = h3[0] # smooth(h3[0],32)\n",
    "print(mvalue(h4))\n",
    "print(imgutils.img_shapevalue(img3))\n",
    "plt.plot(h4)"
   ]
  },
  {
   "cell_type": "code",
   "execution_count": null,
   "metadata": {},
   "outputs": [],
   "source": [
    "h = imgutils.img_histogram(img)[0]\n",
    "plt.plot(h)"
   ]
  },
  {
   "cell_type": "code",
   "execution_count": null,
   "metadata": {},
   "outputs": [],
   "source": [
    "h2 = imgutils.img_histogram(img, bins=100, ref_interval_only=True)[0]\n",
    "h3 = imgutils.smooth_histogram(h2, 3)\n",
    "plt.plot(h3)"
   ]
  },
  {
   "cell_type": "code",
   "execution_count": null,
   "metadata": {},
   "outputs": [],
   "source": [
    "img2 = img[256:512,0:100]\n",
    "img3 = img[256:512,100:200]\n",
    "h2 = imgutils.img_histogram(img2, bins=100, ref_interval_only=True)\n",
    "h2 = imgutils.smooth_histogram(h2, 3)\n",
    "h3 = imgutils.img_histogram(img3, bins=100, ref_interval_only=True)\n",
    "h3 = imgutils.smooth_histogram(h3, 3)\n",
    "plt.plot(h2)\n",
    "plt.plot(h3)\n",
    "print(imgutils.img_shapevalue(img2, bins=100, smoothing_window=5, dynamic_range_only=True))\n",
    "print(imgutils.img_shapevalue(img3, bins=100, smoothing_window=5, dynamic_range_only=True))\n"
   ]
  },
  {
   "cell_type": "code",
   "execution_count": null,
   "metadata": {},
   "outputs": [],
   "source": [
    "h2 = imgutils.img_histogram(img2, bins=5, ref_interval_only=True)"
   ]
  },
  {
   "cell_type": "code",
   "execution_count": null,
   "metadata": {},
   "outputs": [],
   "source": [
    "print(h2[0])"
   ]
  },
  {
   "cell_type": "code",
   "execution_count": null,
   "metadata": {},
   "outputs": [],
   "source": [
    "def hist_bin(img, binnr, nrbins=8):\n",
    "    return imgutils.img_histogram(img, bins=nrbins, ref_interval_only=False, normalize=True)[0][binnr]\n",
    "\n",
    "def hist0(img): return hist_bin(img,0)\n",
    "def hist1(img): return hist_bin(img,1)\n",
    "def hist2(img): return hist_bin(img,2)\n",
    "def hist3(img): return hist_bin(img,3)\n",
    "def hist4(img): return hist_bin(img,4)\n",
    "def hist5(img): return hist_bin(img,5)\n",
    "def hist6(img): return hist_bin(img,6)\n",
    "def hist7(img): return hist_bin(img,7)\n",
    "\n",
    "def hist_signature():\n",
    "    return [hist0, hist1, hist2, hist3, hist4, hist5, hist6, hist7]\n"
   ]
  },
  {
   "cell_type": "code",
   "execution_count": null,
   "metadata": {},
   "outputs": [],
   "source": [
    "a = imgutils.img_histogram(img, bins=8, ref_interval_only=False, normalize=True)\n",
    "plt.plot(a[0])\n",
    "plt.show()"
   ]
  },
  {
   "cell_type": "code",
   "execution_count": null,
   "metadata": {},
   "outputs": [],
   "source": [
    "print(df_imgfiles)"
   ]
  },
  {
   "cell_type": "code",
   "execution_count": null,
   "metadata": {},
   "outputs": [],
   "source": [
    "stats = hist_signature()\n",
    "df = imgutils.slicestats(list(df_imgfiles['filename'][:]), 8, 8, stats)"
   ]
  },
  {
   "cell_type": "code",
   "execution_count": null,
   "metadata": {
    "scrolled": true
   },
   "outputs": [],
   "source": [
    "df.head()"
   ]
  },
  {
   "cell_type": "code",
   "execution_count": null,
   "metadata": {},
   "outputs": [],
   "source": [
    "stat_names = imgutils.stat_names(stats)\n",
    "stat_normnames = imgutils.normalized_names(stat_names)\n",
    "imgutils.normalize(df, stat_names)"
   ]
  },
  {
   "cell_type": "code",
   "execution_count": null,
   "metadata": {},
   "outputs": [],
   "source": [
    "df.head()"
   ]
  },
  {
   "cell_type": "code",
   "execution_count": null,
   "metadata": {},
   "outputs": [],
   "source": [
    "import seaborn as sb"
   ]
  },
  {
   "cell_type": "code",
   "execution_count": null,
   "metadata": {},
   "outputs": [],
   "source": [
    "%matplotlib inline\n",
    "sb.pairplot(df, vars=stat_names)\n",
    "plt.show()"
   ]
  },
  {
   "cell_type": "code",
   "execution_count": null,
   "metadata": {},
   "outputs": [],
   "source": [
    "%matplotlib notebook\n",
    "imgutils.plotwithimg(df, 'hist0', 'hist1', imgutils.highlightimgslice, True)"
   ]
  },
  {
   "cell_type": "code",
   "execution_count": null,
   "metadata": {},
   "outputs": [],
   "source": [
    "img0 = imgutils.getimgslice(df,0)\n",
    "imgN = imgutils.getimgslice(df,20)"
   ]
  },
  {
   "cell_type": "code",
   "execution_count": null,
   "metadata": {},
   "outputs": [],
   "source": [
    "imgutils.showimg(img0)\n",
    "imgutils.showimg(imgN)"
   ]
  },
  {
   "cell_type": "code",
   "execution_count": null,
   "metadata": {},
   "outputs": [],
   "source": [
    "a = imgutils.img_histogram(img0, bins=20, normalize=True)\n",
    "b = imgutils.img_histogram(imgN, bins=20, normalize=True)"
   ]
  },
  {
   "cell_type": "code",
   "execution_count": null,
   "metadata": {
    "scrolled": true
   },
   "outputs": [],
   "source": [
    "plt.plot(a)\n",
    "plt.show()"
   ]
  },
  {
   "cell_type": "code",
   "execution_count": null,
   "metadata": {},
   "outputs": [],
   "source": [
    "plt.plot(b)\n",
    "plt.show()"
   ]
  },
  {
   "cell_type": "code",
   "execution_count": null,
   "metadata": {},
   "outputs": [],
   "source": [
    "print(df[stat_names].iloc[0])\n",
    "print(df[stat_names].iloc[20])"
   ]
  },
  {
   "cell_type": "code",
   "execution_count": null,
   "metadata": {},
   "outputs": [],
   "source": [
    "import scipy.stats as spstats"
   ]
  },
  {
   "cell_type": "code",
   "execution_count": null,
   "metadata": {},
   "outputs": [],
   "source": [
    "a = spstats.mode(imgN, axis=None)\n",
    "print(a)"
   ]
  },
  {
   "cell_type": "code",
   "execution_count": null,
   "metadata": {},
   "outputs": [],
   "source": [
    "print(a[0])"
   ]
  },
  {
   "cell_type": "code",
   "execution_count": null,
   "metadata": {},
   "outputs": [],
   "source": [
    "b = np.histogram(img0, bins=1024, density=False)\n",
    "imax = np.argmax(b[0])\n",
    "cmax = np.max(b[0])\n",
    "emax = b[1][imax]\n",
    "emaxmin = b[1][imax-1]\n",
    "gray = emax + (emax - (b[1][imax-1] if (imax>0) else 0)) / 2\n",
    "print(imax, cmax, emax, emaxmin)\n",
    "print(gray)\n",
    "print(spstats.mode(img0, axis=None)[0])\n",
    "print(b[1][len(b[1])-1])"
   ]
  },
  {
   "cell_type": "code",
   "execution_count": null,
   "metadata": {},
   "outputs": [],
   "source": [
    "c = imgutils.img_mode_cnt(img0, use_fast=True)\n",
    "print(c)"
   ]
  },
  {
   "cell_type": "code",
   "execution_count": null,
   "metadata": {},
   "outputs": [],
   "source": [
    "d = imgutils.img_histogram(img0, bins=10, bincenters=False, normalize=True)\n",
    "e = np.sum(d[0])\n",
    "print(e)"
   ]
  },
  {
   "cell_type": "code",
   "execution_count": null,
   "metadata": {},
   "outputs": [],
   "source": [
    "plt.plot(d[0])\n",
    "plt.show()"
   ]
  },
  {
   "cell_type": "code",
   "execution_count": null,
   "metadata": {},
   "outputs": [],
   "source": [
    "# Re-run this cell if you altered imgutils or imgutils_test\n",
    "import importlib\n",
    "importlib.reload(imgutils)"
   ]
  },
  {
   "cell_type": "code",
   "execution_count": null,
   "metadata": {},
   "outputs": [],
   "source": [
    "a0 = imgutils.img_histogram(img0, bins=8, ref_interval_only=False, normalize=True)\n",
    "aN = imgutils.img_histogram(imgN, bins=8, ref_interval_only=False, normalize=True)\n",
    "\n",
    "plt.plot(a0[0])\n",
    "plt.plot(aN[0])\n",
    "plt.show()"
   ]
  },
  {
   "cell_type": "code",
   "execution_count": null,
   "metadata": {},
   "outputs": [],
   "source": [
    "stats2 = [imgutils.img_mean, imgutils.img_std, imgutils.img_mode, imgutils.img_kurtosis, imgutils.img_skewness, imgutils.img_median ]\n",
    "df2 = imgutils.slicestats(list(df_imgfiles['filename'][:]), 10, 10, stats2)"
   ]
  },
  {
   "cell_type": "code",
   "execution_count": null,
   "metadata": {},
   "outputs": [],
   "source": [
    "df2.head()"
   ]
  },
  {
   "cell_type": "code",
   "execution_count": null,
   "metadata": {},
   "outputs": [],
   "source": [
    "stat_names2 = imgutils.stat_names(stats2)\n",
    "stat_normnames2 = imgutils.normalized_names(stat_names2)\n",
    "imgutils.normalize(df2, stat_names2)"
   ]
  },
  {
   "cell_type": "code",
   "execution_count": null,
   "metadata": {},
   "outputs": [],
   "source": [
    "%matplotlib inline\n",
    "sb.pairplot(df2, vars=stat_names2)\n",
    "plt.show()"
   ]
  },
  {
   "cell_type": "code",
   "execution_count": null,
   "metadata": {},
   "outputs": [],
   "source": [
    "%matplotlib notebook\n",
    "imgutils.plotwithimg(df2, 'img_mode', 'img_skewness', imgutils.highlightimgslice, True)"
   ]
  },
  {
   "cell_type": "code",
   "execution_count": null,
   "metadata": {},
   "outputs": [],
   "source": [
    "df3 = df2[(df2['img_mode']>4000) & (df2['img_mean']>9500)]"
   ]
  },
  {
   "cell_type": "code",
   "execution_count": null,
   "metadata": {},
   "outputs": [],
   "source": [
    "df3.head()"
   ]
  },
  {
   "cell_type": "code",
   "execution_count": null,
   "metadata": {},
   "outputs": [],
   "source": [
    "%matplotlib inline\n",
    "sb.pairplot(df3, vars=stat_names2)\n",
    "plt.show()"
   ]
  },
  {
   "cell_type": "code",
   "execution_count": null,
   "metadata": {},
   "outputs": [],
   "source": [
    "%matplotlib notebook\n",
    "imgutils.plotwithimg(df3, '|img_median|', '|img_std|', imgutils.highlightimgslice, True)"
   ]
  },
  {
   "cell_type": "code",
   "execution_count": null,
   "metadata": {},
   "outputs": [],
   "source": [
    "print(df3['img_mean'].iloc[0])"
   ]
  },
  {
   "cell_type": "code",
   "execution_count": null,
   "metadata": {},
   "outputs": [],
   "source": [
    "p = imgutils.img_histogram(imgN)\n",
    "print(p)"
   ]
  },
  {
   "cell_type": "code",
   "execution_count": null,
   "metadata": {},
   "outputs": [],
   "source": [
    "s = spstats.gaussian_kde(p[0])"
   ]
  },
  {
   "cell_type": "code",
   "execution_count": null,
   "metadata": {},
   "outputs": [],
   "source": [
    "print(s)"
   ]
  },
  {
   "cell_type": "code",
   "execution_count": null,
   "metadata": {},
   "outputs": [],
   "source": [
    "s.pdf()"
   ]
  },
  {
   "cell_type": "code",
   "execution_count": null,
   "metadata": {},
   "outputs": [],
   "source": [
    "stats = imgutils.statfuncs_7numsummary()\n",
    "df4 = imgutils.slicestats(list(df_imgfiles['filename'][:]), 10, 10, stats)"
   ]
  },
  {
   "cell_type": "code",
   "execution_count": null,
   "metadata": {},
   "outputs": [],
   "source": [
    "stat_names = imgutils.stat_names(stats)"
   ]
  },
  {
   "cell_type": "code",
   "execution_count": null,
   "metadata": {},
   "outputs": [],
   "source": [
    "%matplotlib inline\n",
    "sb.pairplot(df4, vars=stat_names)\n",
    "plt.show()"
   ]
  },
  {
   "cell_type": "code",
   "execution_count": null,
   "metadata": {},
   "outputs": [],
   "source": [
    "%matplotlib notebook\n",
    "imgutils.plotwithimg(df4, 'img_min', 'img_quintile1', imgutils.highlightimgslice, True)"
   ]
  },
  {
   "cell_type": "code",
   "execution_count": null,
   "metadata": {},
   "outputs": [],
   "source": [
    "df5 = df4[df4['img_quintile1']>8000]"
   ]
  },
  {
   "cell_type": "code",
   "execution_count": null,
   "metadata": {},
   "outputs": [],
   "source": [
    "%matplotlib inline\n",
    "sb.pairplot(df5, vars=stat_names)\n",
    "plt.show()"
   ]
  },
  {
   "cell_type": "markdown",
   "metadata": {},
   "source": [
    "# Conclusions:\n",
    "\n",
    "* spend a lot of time on 'feature engineering', but on this set it is really tough\n",
    "* Need to filter out the black images\n",
    "* the images have different scaling, so need proper rescaling\n",
    "* added many new statistics, some of them are useless otthers add some value\n",
    "* hard to detect multi-modality\n",
    "* continue to focus on full pipeline\n",
    "* consider showing histogram in interactive graph and also a zoom in of the image\n"
   ]
  },
  {
   "cell_type": "code",
   "execution_count": null,
   "metadata": {},
   "outputs": [],
   "source": []
  }
 ],
 "metadata": {
  "kernelspec": {
   "display_name": "Python 3",
   "language": "python",
   "name": "python3"
  },
  "language_info": {
   "codemirror_mode": {
    "name": "ipython",
    "version": 3
   },
   "file_extension": ".py",
   "mimetype": "text/x-python",
   "name": "python",
   "nbconvert_exporter": "python",
   "pygments_lexer": "ipython3",
   "version": "3.6.4"
  }
 },
 "nbformat": 4,
 "nbformat_minor": 1
}
