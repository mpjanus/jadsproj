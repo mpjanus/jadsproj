{
 "cells": [
  {
   "cell_type": "markdown",
   "metadata": {},
   "source": [
    "# Real Micro Crystals -  Data Engineering & Exploration 2\n",
    "_playing with different statistics_\n",
    "\n",
    "Michael Janus, June 2018"
   ]
  },
  {
   "cell_type": "markdown",
   "metadata": {},
   "source": [
    "Use more functions on a real (small) data set.\n",
    "\n",
    "For explanation and how to usage functions, see the notebook **imgutils_test_and_explain.ipynb**"
   ]
  },
  {
   "cell_type": "markdown",
   "metadata": {},
   "source": [
    "## 1. Import the used modules, including the one with test functions:"
   ]
  },
  {
   "cell_type": "code",
   "execution_count": null,
   "metadata": {},
   "outputs": [],
   "source": [
    "import warnings\n",
    "warnings.filterwarnings(\"ignore\", category=DeprecationWarning)\n",
    "warnings.filterwarnings('ignore')\n",
    "\n",
    "import matplotlib.pyplot as plt\n",
    "\n",
    "import imgutils\n",
    "import imgutils_test as tst"
   ]
  },
  {
   "cell_type": "code",
   "execution_count": null,
   "metadata": {},
   "outputs": [],
   "source": [
    "# Re-run this cell if you altered imgutils or imgutils_test\n",
    "import importlib\n",
    "importlib.reload(imgutils)\n",
    "importlib.reload(tst)"
   ]
  },
  {
   "cell_type": "markdown",
   "metadata": {},
   "source": [
    "## 1. Get image files"
   ]
  },
  {
   "cell_type": "code",
   "execution_count": null,
   "metadata": {},
   "outputs": [],
   "source": [
    "df_imgfiles = imgutils.scanimgdir('../data/Crystals_Apr_12/Tileset7', '.tif')\n",
    "print(df_imgfiles)"
   ]
  },
  {
   "cell_type": "markdown",
   "metadata": {},
   "source": [
    "## 2. Get Image Slice Statistics\n",
    "This set contains 6 images. Let's slice those up in 4 by 4; this will give total of 6 x 4 x 4 = 96 slices.\n",
    "And also apply the statistics on each slice."
   ]
  },
  {
   "cell_type": "code",
   "execution_count": null,
   "metadata": {},
   "outputs": [],
   "source": [
    "statfuncs = imgutils.statfuncs_common_ext()\n",
    "stat_names = imgutils.stat_names(statfuncs)\n",
    "print(stat_names)"
   ]
  },
  {
   "cell_type": "code",
   "execution_count": null,
   "metadata": {},
   "outputs": [],
   "source": [
    "df = imgutils.slicestats(list(df_imgfiles['filename']), 4, 4, statfuncs)\n",
    "print(\"records: \", df.shape[0])\n",
    "df.head()"
   ]
  },
  {
   "cell_type": "markdown",
   "metadata": {},
   "source": [
    "**Normalize** the statistics using 'standarization'"
   ]
  },
  {
   "cell_type": "code",
   "execution_count": null,
   "metadata": {},
   "outputs": [],
   "source": [
    "imgutils.normalize(df, stat_names)\n",
    "df.head()"
   ]
  },
  {
   "cell_type": "code",
   "execution_count": null,
   "metadata": {},
   "outputs": [],
   "source": [
    "stat_normnames = imgutils.normalized_names(stat_names)\n",
    "print(stat_normnames)"
   ]
  },
  {
   "cell_type": "markdown",
   "metadata": {},
   "source": [
    "## 3. Check some combinations for patterns\n",
    "(using the seaborn pairplot)"
   ]
  },
  {
   "cell_type": "code",
   "execution_count": null,
   "metadata": {},
   "outputs": [],
   "source": [
    "import seaborn as sb"
   ]
  },
  {
   "cell_type": "code",
   "execution_count": null,
   "metadata": {},
   "outputs": [],
   "source": [
    "%matplotlib inline\n",
    "sb.pairplot(df, vars=stat_normnames)\n",
    "plt.show()"
   ]
  },
  {
   "cell_type": "markdown",
   "metadata": {},
   "source": [
    "## 4. Inspect interactively\n",
    "Let's inspect some combinations that have 'signs of clustering' in the interactive graph"
   ]
  },
  {
   "cell_type": "code",
   "execution_count": null,
   "metadata": {},
   "outputs": [],
   "source": [
    "df.head(3)"
   ]
  },
  {
   "cell_type": "code",
   "execution_count": null,
   "metadata": {},
   "outputs": [],
   "source": [
    "%matplotlib notebook"
   ]
  },
  {
   "cell_type": "code",
   "execution_count": null,
   "metadata": {},
   "outputs": [],
   "source": [
    "imgutils.plotwithimg(df, '|img_mean|', '|img_std|', imgutils.highlightimgslice, thumbnails=True)"
   ]
  },
  {
   "cell_type": "markdown",
   "metadata": {},
   "source": [
    "Looks likt the sort-of cluster in lower right are points without a crystal"
   ]
  },
  {
   "cell_type": "code",
   "execution_count": null,
   "metadata": {},
   "outputs": [],
   "source": [
    "imgutils.plotwithimg(df, '|img_mean|', '|img_median|', imgutils.highlightimgslice, thumbnails=True)"
   ]
  },
  {
   "cell_type": "markdown",
   "metadata": {},
   "source": [
    "The separation is not representative, the group at top-left contains both with and without micro crystals"
   ]
  },
  {
   "cell_type": "code",
   "execution_count": null,
   "metadata": {},
   "outputs": [],
   "source": [
    "imgutils.plotwithimg(df, '|img_median|', '|img_std|', imgutils.highlightimgslice, thumbnails=True)"
   ]
  },
  {
   "cell_type": "markdown",
   "metadata": {},
   "source": [
    "This looks better, bottom right are empty regions, top-left have crystals. "
   ]
  },
  {
   "cell_type": "markdown",
   "metadata": {},
   "source": [
    "## 5. Heatmaps\n",
    "\n",
    "Let's do an attempt to create a score for a heatmap. Looks like |img_std| is most infromative"
   ]
  },
  {
   "cell_type": "code",
   "execution_count": null,
   "metadata": {},
   "outputs": [],
   "source": [
    "imgname = df_imgfiles.iloc[3]['filename']\n",
    "print(imgname)"
   ]
  },
  {
   "cell_type": "code",
   "execution_count": null,
   "metadata": {},
   "outputs": [],
   "source": [
    "imgs, heats = imgutils.getimgslices_fromdf(df, imgname, '|img_std|')"
   ]
  },
  {
   "cell_type": "code",
   "execution_count": null,
   "metadata": {},
   "outputs": [],
   "source": [
    "imgutils.showheatmap(imgs, heats)"
   ]
  },
  {
   "cell_type": "markdown",
   "metadata": {},
   "source": [
    "Yes, looks great!. Let's check for some other images as well"
   ]
  },
  {
   "cell_type": "code",
   "execution_count": null,
   "metadata": {},
   "outputs": [],
   "source": []
  },
  {
   "cell_type": "code",
   "execution_count": null,
   "metadata": {},
   "outputs": [],
   "source": [
    "imgname = df_imgfiles.iloc[0]['filename']\n",
    "imgs, heats = imgutils.getimgslices_fromdf(df, imgname, '|img_std|')\n",
    "imgutils.showheatmap(imgs, heats, opacity=0.7)"
   ]
  },
  {
   "cell_type": "code",
   "execution_count": null,
   "metadata": {},
   "outputs": [],
   "source": [
    "imgname = df_imgfiles.iloc[1]['filename']\n",
    "imgs, heats = imgutils.getimgslices_fromdf(df, imgname, '|img_std|')\n",
    "imgutils.showheatmap(imgs, heats, opacity=0.7)"
   ]
  },
  {
   "cell_type": "code",
   "execution_count": null,
   "metadata": {},
   "outputs": [],
   "source": [
    "imgname = df_imgfiles.iloc[2]['filename']\n",
    "imgs, heats = imgutils.getimgslices_fromdf(df, imgname, '|img_std|')\n",
    "imgutils.showheatmap(imgs, heats, opacity=0.7)"
   ]
  },
  {
   "cell_type": "code",
   "execution_count": null,
   "metadata": {},
   "outputs": [],
   "source": [
    "imgname = df_imgfiles.iloc[4]['filename']\n",
    "imgs, heats = imgutils.getimgslices_fromdf(df, imgname, '|img_std|')\n",
    "imgutils.showheatmap(imgs, heats, opacity=0.7)"
   ]
  },
  {
   "cell_type": "code",
   "execution_count": null,
   "metadata": {},
   "outputs": [],
   "source": [
    "imgname = df_imgfiles.iloc[5]['filename']\n",
    "imgs, heats = imgutils.getimgslices_fromdf(df, imgname, '|img_std|')\n",
    "imgutils.showheatmap(imgs, heats, opacity=0.7)"
   ]
  },
  {
   "cell_type": "markdown",
   "metadata": {},
   "source": []
  },
  {
   "cell_type": "markdown",
   "metadata": {},
   "source": [
    "## [So far, this was a repeat of previous session of June 15]\n",
    "\n"
   ]
  },
  {
   "cell_type": "markdown",
   "metadata": {},
   "source": []
  },
  {
   "cell_type": "markdown",
   "metadata": {},
   "source": [
    "## 6. Try some more stats (June 19)"
   ]
  },
  {
   "cell_type": "markdown",
   "metadata": {},
   "source": [
    "**The '5 number statistics'**"
   ]
  },
  {
   "cell_type": "code",
   "execution_count": null,
   "metadata": {},
   "outputs": [],
   "source": [
    "%matplotlib inline\n",
    "statfuncs = imgutils.statfuncs_5numsummary()\n",
    "stat_names = imgutils.stat_names(statfuncs)\n",
    "stat_normnames = imgutils.normalized_names(stat_names)\n",
    "df = imgutils.slicestats(list(df_imgfiles['filename']), 4, 4, statfuncs)\n",
    "imgutils.normalize(df, stat_names)\n",
    "\n",
    "sb.pairplot(df, vars=stat_normnames)"
   ]
  },
  {
   "cell_type": "code",
   "execution_count": null,
   "metadata": {},
   "outputs": [],
   "source": []
  },
  {
   "cell_type": "code",
   "execution_count": null,
   "metadata": {},
   "outputs": [],
   "source": [
    "%matplotlib notebook\n",
    "imgutils.plotwithimg(df, '|img_quartile1|', '|img_quartile3|', imgutils.highlightimgslice, thumbnails=True)"
   ]
  },
  {
   "cell_type": "code",
   "execution_count": null,
   "metadata": {},
   "outputs": [],
   "source": [
    "# looks like here that if quartile 2 needs to be > 0 and quartile 1 < -1\n",
    "df['score'] = df['|img_quartile3|'] - df['|img_quartile1|'] \n",
    "df['|score|'] = imgutils.norm_standardize(df, 'score')"
   ]
  },
  {
   "cell_type": "code",
   "execution_count": null,
   "metadata": {},
   "outputs": [],
   "source": [
    "imgname = df_imgfiles.iloc[0]['filename']\n",
    "imgs, heats = imgutils.getimgslices_fromdf(df, imgname, '|score|')\n",
    "imgutils.showheatmap(imgs, heats)"
   ]
  },
  {
   "cell_type": "markdown",
   "metadata": {},
   "source": [
    "** 7 number stats ***"
   ]
  },
  {
   "cell_type": "code",
   "execution_count": null,
   "metadata": {},
   "outputs": [],
   "source": [
    "%matplotlib inline\n",
    "statfuncs = imgutils.statfuncs_7numsummary()\n",
    "stat_names = imgutils.stat_names(statfuncs)\n",
    "stat_normnames = imgutils.normalized_names(stat_names)\n",
    "df = imgutils.slicestats(list(df_imgfiles['filename']), 4, 4, statfuncs)\n",
    "imgutils.normalize(df, stat_names)\n",
    "\n",
    "sb.pairplot(df, vars=stat_normnames)"
   ]
  },
  {
   "cell_type": "code",
   "execution_count": null,
   "metadata": {},
   "outputs": [],
   "source": [
    "%matplotlib notebook\n",
    "imgutils.plotwithimg(df, '|img_quintile1|', '|img_quintile2|', imgutils.highlightimgslice, thumbnails=True)"
   ]
  },
  {
   "cell_type": "markdown",
   "metadata": {},
   "source": [
    "here, quintile 1 looks like pretty good separting statistics"
   ]
  },
  {
   "cell_type": "code",
   "execution_count": null,
   "metadata": {},
   "outputs": [],
   "source": [
    "# looks like here that if quartile 2 needs to be > 0 and quartile 1 < -1\n",
    "df['score'] = -df['|img_quintile1|'] \n",
    "df['|score|'] = imgutils.norm_minmax(df, 'score')\n",
    "imgname = df_imgfiles.iloc[0]['filename']\n",
    "imgs, heats = imgutils.getimgslices_fromdf(df, imgname, 'score')\n",
    "imgutils.showheatmap(imgs, heats)"
   ]
  },
  {
   "cell_type": "markdown",
   "metadata": {},
   "source": [
    "hmm, one obvious one was missed, so need clustering and not one statistics!"
   ]
  },
  {
   "cell_type": "markdown",
   "metadata": {},
   "source": [
    "** box-and-whisker stats **"
   ]
  },
  {
   "cell_type": "code",
   "execution_count": null,
   "metadata": {},
   "outputs": [],
   "source": [
    "statfuncs = imgutils.statfuncs_boxandwhisker()\n",
    "stat_names = imgutils.stat_names(statfuncs)\n",
    "stat_normnames = imgutils.normalized_names(stat_names)\n",
    "df = imgutils.slicestats(list(df_imgfiles['filename']), 4, 4, statfuncs)\n",
    "imgutils.normalize(df, stat_names)\n",
    "\n",
    "\n",
    "%matplotlib inline\n",
    "sb.pairplot(df, vars=stat_names)\n"
   ]
  },
  {
   "cell_type": "code",
   "execution_count": null,
   "metadata": {},
   "outputs": [],
   "source": [
    "# check one interactively\n",
    "%matplotlib notebook\n",
    "imgutils.plotwithimg(df, '|img_interquartilerange|', '|img_median|', imgutils.highlightimgslice, thumbnails = True)"
   ]
  },
  {
   "cell_type": "markdown",
   "metadata": {},
   "source": [
    "separtion of clusters is just at top of dense area of top left (where it becomes more sparse)"
   ]
  },
  {
   "cell_type": "code",
   "execution_count": null,
   "metadata": {},
   "outputs": [],
   "source": [
    "statfuncs = imgutils.statfuncs_boxandwhisker_ext()\n",
    "stat_names = imgutils.stat_names(statfuncs)\n",
    "stat_normnames = imgutils.normalized_names(stat_names)\n",
    "df = imgutils.slicestats(list(df_imgfiles['filename']), 4, 4, statfuncs)\n",
    "imgutils.normalize(df, stat_names)\n",
    "\n",
    "\n",
    "%matplotlib inline\n",
    "sb.pairplot(df, vars=stat_names)"
   ]
  },
  {
   "cell_type": "code",
   "execution_count": null,
   "metadata": {},
   "outputs": [],
   "source": [
    "print(stat_normnames)"
   ]
  },
  {
   "cell_type": "code",
   "execution_count": null,
   "metadata": {},
   "outputs": [],
   "source": [
    "%matplotlib notebook\n",
    "imgutils.plotwithimg(df, '|img_interquartilerange_low|', '|img_interquartilerange_high|', imgutils.highlightimgslice, True)"
   ]
  },
  {
   "cell_type": "code",
   "execution_count": null,
   "metadata": {},
   "outputs": [],
   "source": [
    "# lower left cluster is non-particles; lets try to separate them:\n",
    "df['score'] = df['|img_interquartilerange_low|'] + df['|img_interquartilerange_high|']\n",
    "#df['|score|'] = imgutils.norm_standardize(df, 'score')\n",
    "#df['|score|'] = imgutils.norm_minmax(df, 'score')"
   ]
  },
  {
   "cell_type": "code",
   "execution_count": null,
   "metadata": {},
   "outputs": [],
   "source": [
    "imgname = df_imgfiles.iloc[0]['filename']\n",
    "imgs, heats = imgutils.getimgslices_fromdf(df, imgname, 'score')\n",
    "imgutils.showheatmap(imgs, heats)"
   ]
  },
  {
   "cell_type": "code",
   "execution_count": null,
   "metadata": {},
   "outputs": [],
   "source": [
    "# mwa\n"
   ]
  },
  {
   "cell_type": "code",
   "execution_count": null,
   "metadata": {},
   "outputs": [],
   "source": []
  }
 ],
 "metadata": {
  "kernelspec": {
   "display_name": "Python 3",
   "language": "python",
   "name": "python3"
  },
  "language_info": {
   "codemirror_mode": {
    "name": "ipython",
    "version": 3
   },
   "file_extension": ".py",
   "mimetype": "text/x-python",
   "name": "python",
   "nbconvert_exporter": "python",
   "pygments_lexer": "ipython3",
   "version": "3.6.5"
  }
 },
 "nbformat": 4,
 "nbformat_minor": 1
}
