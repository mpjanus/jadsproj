{
 "cells": [
  {
   "cell_type": "markdown",
   "metadata": {},
   "source": [
    "## Real Micro Crystals -  Data Engineering & Exploration\n",
    "\n",
    "Michael Janus, June 2018"
   ]
  },
  {
   "cell_type": "markdown",
   "metadata": {},
   "source": [
    "Use the functions on a real (small) data set.\n",
    "\n",
    "For explanation and how to usage functions, see the notebook **imgutils_test_and_explain.ipynb**"
   ]
  },
  {
   "cell_type": "markdown",
   "metadata": {},
   "source": [
    "## 1. Import the used modules, including the one with test functions:"
   ]
  },
  {
   "cell_type": "code",
   "execution_count": null,
   "metadata": {},
   "outputs": [],
   "source": [
    "import warnings\n",
    "warnings.filterwarnings(\"ignore\", category=DeprecationWarning)\n",
    "\n",
    "import matplotlib.pyplot as plt\n",
    "import pandas as pd\n",
    "\n",
    "import imgutils\n",
    "import imgutils_test as tst"
   ]
  },
  {
   "cell_type": "code",
   "execution_count": null,
   "metadata": {},
   "outputs": [],
   "source": [
    "# Re-run this cell if you altered imgutils or imgutils_test\n",
    "import importlib\n",
    "importlib.reload(imgutils)\n",
    "importlib.reload(tst)"
   ]
  },
  {
   "cell_type": "markdown",
   "metadata": {},
   "source": [
    "## 1. Get image files"
   ]
  },
  {
   "cell_type": "code",
   "execution_count": null,
   "metadata": {},
   "outputs": [],
   "source": [
    "df_imgfiles = imgutils.scanimgdir('../data/Crystals_Apr_12/Tileset7', '.tif')\n",
    "print(df_imgfiles)"
   ]
  },
  {
   "cell_type": "markdown",
   "metadata": {},
   "source": [
    "## 2. Get Image Slice Statistics\n",
    "This set contains 6 images. Let's slice those up in 4 by 4; this will give total of 6 x 4 x 4 = 96 slices.\n",
    "And also apply the statistics on each slice."
   ]
  },
  {
   "cell_type": "code",
   "execution_count": null,
   "metadata": {},
   "outputs": [],
   "source": [
    "statfuncs = [imgutils.img_min, imgutils.img_max, imgutils.img_range, imgutils.img_mean, imgutils.img_std, imgutils.img_median]\n",
    "df = imgutils.slicestats(list(df_imgfiles['filename']), 4, 4, statfuncs)\n",
    "print(\"records: \", df.shape[0])\n",
    "df.head()"
   ]
  },
  {
   "cell_type": "markdown",
   "metadata": {},
   "source": [
    "**Normalize** the statistics using 'standarization'"
   ]
  },
  {
   "cell_type": "code",
   "execution_count": null,
   "metadata": {},
   "outputs": [],
   "source": [
    "stat_names = imgutils.stat_names(statfuncs)\n",
    "print(stat_names)"
   ]
  },
  {
   "cell_type": "code",
   "execution_count": null,
   "metadata": {},
   "outputs": [],
   "source": [
    "df.isnull().values.any()"
   ]
  },
  {
   "cell_type": "code",
   "execution_count": null,
   "metadata": {},
   "outputs": [],
   "source": [
    "imgutils.normalize(df, stat_names)\n",
    "df.head()"
   ]
  },
  {
   "cell_type": "code",
   "execution_count": null,
   "metadata": {},
   "outputs": [],
   "source": [
    "stat_normnames = imgutils.normalized_names(stat_names)\n",
    "print(stat_normnames)"
   ]
  },
  {
   "cell_type": "markdown",
   "metadata": {},
   "source": [
    "## 3. Check some combinations for patterns\n",
    "(using the seaborn pairplot)"
   ]
  },
  {
   "cell_type": "code",
   "execution_count": null,
   "metadata": {},
   "outputs": [],
   "source": [
    "import seaborn as sb"
   ]
  },
  {
   "cell_type": "code",
   "execution_count": null,
   "metadata": {},
   "outputs": [],
   "source": [
    "%matplotlib inline\n",
    "sb.pairplot(df, vars=stat_normnames)\n",
    "plt.show()"
   ]
  },
  {
   "cell_type": "markdown",
   "metadata": {},
   "source": [
    "## 4. Inspect interactively\n",
    "Let's inspect some combinations that have 'signs of clustering' in the interactive graph"
   ]
  },
  {
   "cell_type": "code",
   "execution_count": null,
   "metadata": {},
   "outputs": [],
   "source": [
    "%matplotlib notebook"
   ]
  },
  {
   "cell_type": "code",
   "execution_count": null,
   "metadata": {},
   "outputs": [],
   "source": [
    "imgutils.plotwithimg(df, '|img_mean|', '|img_range|', imgutils.highlightimgslice)"
   ]
  },
  {
   "cell_type": "markdown",
   "metadata": {},
   "source": [
    "Looks likt the sort-of cluster in lower right are points without a crystal"
   ]
  },
  {
   "cell_type": "code",
   "execution_count": null,
   "metadata": {},
   "outputs": [],
   "source": [
    "imgutils.plotwithimg(df, '|img_mean|', '|img_median|', imgutils.highlightimgslice)"
   ]
  },
  {
   "cell_type": "markdown",
   "metadata": {},
   "source": [
    "The separation is not representative, the group at top-left contains both with and without micro crystals"
   ]
  },
  {
   "cell_type": "code",
   "execution_count": null,
   "metadata": {},
   "outputs": [],
   "source": [
    "imgutils.plotwithimg(df, '|img_range|', '|img_std|', imgutils.highlightimgslice)"
   ]
  },
  {
   "cell_type": "markdown",
   "metadata": {},
   "source": [
    "This looks better, bottom left are empty regions, top-left have crystals. "
   ]
  },
  {
   "cell_type": "markdown",
   "metadata": {},
   "source": [
    "## 5. Heatmaps\n",
    "\n",
    "Let's do an attempt to create a score for a heatmap. Looks like |img_std| is most infromative"
   ]
  },
  {
   "cell_type": "code",
   "execution_count": null,
   "metadata": {},
   "outputs": [],
   "source": [
    "imgname = df_imgfiles.iloc[3]['filename']\n",
    "print(imgname)"
   ]
  },
  {
   "cell_type": "code",
   "execution_count": null,
   "metadata": {},
   "outputs": [],
   "source": [
    "imgs, heats = imgutils.getimgslices_fromdf(df, imgname, '|img_std|')"
   ]
  },
  {
   "cell_type": "code",
   "execution_count": null,
   "metadata": {},
   "outputs": [],
   "source": [
    "%matplotlib inline"
   ]
  },
  {
   "cell_type": "code",
   "execution_count": null,
   "metadata": {},
   "outputs": [],
   "source": [
    "imgutils.showheatmap(imgs, heats)\n",
    "print(heats)"
   ]
  },
  {
   "cell_type": "markdown",
   "metadata": {},
   "source": [
    "Yes, looks great!. Let's check for some other images as well"
   ]
  },
  {
   "cell_type": "code",
   "execution_count": null,
   "metadata": {},
   "outputs": [],
   "source": [
    "imgname = df_imgfiles.iloc[0]['filename']\n",
    "imgs, heats = imgutils.getimgslices_fromdf(df, imgname, '|img_std|')\n",
    "imgutils.showheatmap(imgs, heats, opacity=0.7)\n",
    "print(heats)"
   ]
  },
  {
   "cell_type": "code",
   "execution_count": null,
   "metadata": {},
   "outputs": [],
   "source": [
    "imgname = df_imgfiles.iloc[1]['filename']\n",
    "imgs, heats = imgutils.getimgslices_fromdf(df, imgname, '|img_std|')\n",
    "imgutils.showheatmap(imgs, heats, opacity=0.7)\n",
    "print(heats)"
   ]
  },
  {
   "cell_type": "code",
   "execution_count": null,
   "metadata": {},
   "outputs": [],
   "source": [
    "imgname = df_imgfiles.iloc[2]['filename']\n",
    "imgs, heats = imgutils.getimgslices_fromdf(df, imgname, '|img_std|')\n",
    "imgutils.showheatmap(imgs, heats, opacity=0.7)\n",
    "print(heats)"
   ]
  },
  {
   "cell_type": "code",
   "execution_count": null,
   "metadata": {},
   "outputs": [],
   "source": [
    "imgname = df_imgfiles.iloc[4]['filename']\n",
    "imgs, heats = imgutils.getimgslices_fromdf(df, imgname, '|img_std|')\n",
    "imgutils.showheatmap(imgs, heats, opacity=0.7)\n",
    "print(heats)"
   ]
  },
  {
   "cell_type": "code",
   "execution_count": null,
   "metadata": {},
   "outputs": [],
   "source": [
    "imgname = df_imgfiles.iloc[5]['filename']\n",
    "imgs, heats = imgutils.getimgslices_fromdf(df, imgname, '|img_std|')\n",
    "imgutils.showheatmap(imgs, heats, opacity=0.7)\n",
    "print(heats)"
   ]
  },
  {
   "cell_type": "markdown",
   "metadata": {},
   "source": [
    "## 6. Conclusions & Remarks\n",
    "- The visualization and heatmap concept looks nice. \n",
    "- Did not use real clustering, but from data exploration just used normalized standard deviation as indicator\n",
    "- For larger or different sets (with outliers), I guess a combination of statistics is needed (which was the idea in the first place and let ML figure out what)\n"
   ]
  },
  {
   "cell_type": "markdown",
   "metadata": {},
   "source": [
    "## 7. Next steps\n",
    "- Export this data set and label it based on std-dev (e.g. 3 cats: none, some, full) \n",
    "- Export this data set for unsupervised learning\n",
    "- Repeat on bigger and more versatile set\n",
    "\n"
   ]
  },
  {
   "cell_type": "markdown",
   "metadata": {},
   "source": [
    "Michael Janus, 15 June 2018"
   ]
  },
  {
   "cell_type": "markdown",
   "metadata": {},
   "source": [
    "<hr>\n",
    "\n",
    "\n",
    "# Update 5 July 2018\n",
    "## 8. Assign labels\n",
    "inspecting the heats, define 3 cats: \n",
    "* |img_std|<0 = A (no particle);\n",
    "* 0<|img_std|<1 = B (partly)\n",
    "* |img_std|>1 = C (fully)\n"
   ]
  },
  {
   "cell_type": "code",
   "execution_count": null,
   "metadata": {},
   "outputs": [],
   "source": [
    "def assign_label(score):\n",
    "    if score<0: return 'A'\n",
    "    if score>=1: return 'C'\n",
    "    return 'B'\n",
    "\n",
    "df['class'] = df.apply(lambda r: assign_label(r['|img_std|']), axis=1)"
   ]
  },
  {
   "cell_type": "code",
   "execution_count": null,
   "metadata": {},
   "outputs": [],
   "source": [
    "df.head()"
   ]
  },
  {
   "cell_type": "code",
   "execution_count": null,
   "metadata": {},
   "outputs": [],
   "source": [
    "df2 = df[df['class']=='C']"
   ]
  },
  {
   "cell_type": "code",
   "execution_count": null,
   "metadata": {},
   "outputs": [],
   "source": [
    "print(len(df2))"
   ]
  },
  {
   "cell_type": "code",
   "execution_count": null,
   "metadata": {},
   "outputs": [],
   "source": [
    "%matplotlib inline\n",
    "# check class C images\n",
    "for i in range(0,len(df2)):\n",
    "    img = imgutils.getimgslice(df2, i)\n",
    "    imgutils.showimg(img)"
   ]
  },
  {
   "cell_type": "code",
   "execution_count": null,
   "metadata": {},
   "outputs": [],
   "source": [
    "# also plot them the img_std vs img_range with the labels\n",
    "labels = df['class'].tolist()\n",
    "colors = [(0 if (l=='A') else (1 if (l=='B') else 2))  for l in labels]\n",
    "plt.scatter(df['|img_range|'], df['|img_std|'], c=colors)\n",
    "plt.show()"
   ]
  },
  {
   "cell_type": "markdown",
   "metadata": {},
   "source": [
    "ideally we should have this interactive with the images, so extend the infrastructure\n",
    "(done, had to change to interactive scatter plot instead of line plot)"
   ]
  },
  {
   "cell_type": "code",
   "execution_count": null,
   "metadata": {},
   "outputs": [],
   "source": [
    "%matplotlib notebook\n",
    "imgutils.plotwithimg(df, '|img_range|', '|img_std|', imgutils.highlightimgslice, 'class')\n"
   ]
  },
  {
   "cell_type": "markdown",
   "metadata": {},
   "source": [
    "## 9. Export as csv\n"
   ]
  },
  {
   "cell_type": "code",
   "execution_count": null,
   "metadata": {},
   "outputs": [],
   "source": [
    "df.to_csv('../data/Crystals_Apr_12/Tileset7.csv', sep=';')"
   ]
  },
  {
   "cell_type": "markdown",
   "metadata": {},
   "source": [
    "## 10. Also other stats"
   ]
  },
  {
   "cell_type": "code",
   "execution_count": null,
   "metadata": {},
   "outputs": [],
   "source": [
    "statfuncs = [imgutils.img_mean, imgutils.img_std, imgutils.img_kurtosis, imgutils.img_skewness, imgutils.img_mode]\n",
    "df2 = imgutils.slicestats(list(df_imgfiles['filename']), 4, 4, statfuncs)\n",
    "print(\"records: \", df2.shape[0])\n"
   ]
  },
  {
   "cell_type": "code",
   "execution_count": null,
   "metadata": {},
   "outputs": [],
   "source": [
    "df2['img_std2']=df2['img_std']/df['img_mean']"
   ]
  },
  {
   "cell_type": "code",
   "execution_count": null,
   "metadata": {},
   "outputs": [],
   "source": []
  },
  {
   "cell_type": "code",
   "execution_count": null,
   "metadata": {},
   "outputs": [],
   "source": [
    "stat_names = imgutils.stat_names(statfuncs) + ['img_std2']\n",
    "imgutils.normalize(df2, stat_names)"
   ]
  },
  {
   "cell_type": "code",
   "execution_count": null,
   "metadata": {},
   "outputs": [],
   "source": [
    "stat_normnames = imgutils.normalized_names(stat_names)\n",
    "\n",
    "%matplotlib inline\n",
    "sb.pairplot(df2, vars=stat_normnames)\n",
    "plt.show()"
   ]
  },
  {
   "cell_type": "code",
   "execution_count": null,
   "metadata": {},
   "outputs": [],
   "source": [
    "#label them based on std (first experiment)\n",
    "df2['class'] = df.apply(lambda r: assign_label(r['|img_std|']), axis=1)"
   ]
  },
  {
   "cell_type": "code",
   "execution_count": null,
   "metadata": {},
   "outputs": [],
   "source": [
    "df2.to_csv('../data/Crystals_Apr_12/Tileset7-2.csv', sep=';')"
   ]
  },
  {
   "cell_type": "code",
   "execution_count": null,
   "metadata": {},
   "outputs": [],
   "source": []
  }
 ],
 "metadata": {
  "kernelspec": {
   "display_name": "Python 3",
   "language": "python",
   "name": "python3"
  },
  "language_info": {
   "codemirror_mode": {
    "name": "ipython",
    "version": 3
   },
   "file_extension": ".py",
   "mimetype": "text/x-python",
   "name": "python",
   "nbconvert_exporter": "python",
   "pygments_lexer": "ipython3",
   "version": "3.6.4"
  }
 },
 "nbformat": 4,
 "nbformat_minor": 1
}
