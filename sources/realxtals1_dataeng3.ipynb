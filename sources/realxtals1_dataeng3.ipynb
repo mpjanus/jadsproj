{
 "cells": [
  {
   "cell_type": "markdown",
   "metadata": {},
   "source": [
    "# Real Micro Crystals -  Data Engineering & Exploration 3 \n",
    "_explore larger data set_\n",
    "\n",
    "Michael Janus, June 2018"
   ]
  },
  {
   "cell_type": "markdown",
   "metadata": {},
   "source": [
    "Use the functions on a real (small) data set.\n",
    "\n",
    "For explanation and how to usage functions, see the notebook **imgutils_test_and_explain.ipynb**"
   ]
  },
  {
   "cell_type": "markdown",
   "metadata": {},
   "source": [
    "## 1. Import the used modules, including the one with test functions:"
   ]
  },
  {
   "cell_type": "code",
   "execution_count": null,
   "metadata": {},
   "outputs": [],
   "source": [
    "import warnings\n",
    "warnings.filterwarnings(\"ignore\", category=DeprecationWarning)\n",
    "\n",
    "import matplotlib.pyplot as plt\n",
    "from scipy import stats\n",
    "\n",
    "import imgutils\n",
    "import imgutils_test as tst"
   ]
  },
  {
   "cell_type": "code",
   "execution_count": null,
   "metadata": {},
   "outputs": [],
   "source": [
    "# Re-run this cell if you altered imgutils or imgutils_test\n",
    "import importlib\n",
    "importlib.reload(imgutils)\n",
    "importlib.reload(tst)"
   ]
  },
  {
   "cell_type": "markdown",
   "metadata": {},
   "source": [
    "## 1. Get image files"
   ]
  },
  {
   "cell_type": "code",
   "execution_count": null,
   "metadata": {},
   "outputs": [],
   "source": [
    "df_imgfiles = imgutils.scanimgdir('../data/Crystals_Apr_12/Tileset6', '.tif')\n",
    "print(df_imgfiles)"
   ]
  },
  {
   "cell_type": "markdown",
   "metadata": {},
   "source": [
    "## 2. Get Image Slice Statistics\n",
    "This set contains many images. Let's slice those up in 10 by 10\n",
    "\n",
    "And also apply the statistics on each slice."
   ]
  },
  {
   "cell_type": "code",
   "execution_count": null,
   "metadata": {},
   "outputs": [],
   "source": [
    "statfuncs = imgutils.statfuncs_5numsummary()\n",
    "df = imgutils.slicestats(list(df_imgfiles['filename']), 10, 10, statfuncs)\n",
    "print(\"records: \", df.shape[0])\n",
    "df.head()"
   ]
  },
  {
   "cell_type": "markdown",
   "metadata": {},
   "source": [
    "visualize some images"
   ]
  },
  {
   "cell_type": "code",
   "execution_count": null,
   "metadata": {},
   "outputs": [],
   "source": [
    "#get single slice:\n",
    "sliceimg = imgutils.getimgslice(df, 8)\n",
    "imgutils.showimg(sliceimg)"
   ]
  },
  {
   "cell_type": "code",
   "execution_count": null,
   "metadata": {},
   "outputs": [],
   "source": [
    "# show first image sliced up:\n",
    "imgname = df_imgfiles.iloc[0]['filename']\n",
    "imgs, dummy = imgutils.getimgslices_fromdf(df, imgname)\n",
    "imgutils.showimgs(imgs)"
   ]
  },
  {
   "cell_type": "code",
   "execution_count": null,
   "metadata": {},
   "outputs": [],
   "source": [
    "df.isnull().values.any()"
   ]
  },
  {
   "cell_type": "markdown",
   "metadata": {},
   "source": [
    "**Normalize** the statistics using 'standarization'"
   ]
  },
  {
   "cell_type": "code",
   "execution_count": null,
   "metadata": {},
   "outputs": [],
   "source": [
    "stat_names = imgutils.stat_names(statfuncs)\n",
    "print(stat_names)"
   ]
  },
  {
   "cell_type": "code",
   "execution_count": null,
   "metadata": {},
   "outputs": [],
   "source": [
    "imgutils.normalize(df, stat_names)\n",
    "df.head()"
   ]
  },
  {
   "cell_type": "code",
   "execution_count": null,
   "metadata": {},
   "outputs": [],
   "source": [
    "df.isnull().values.any()"
   ]
  },
  {
   "cell_type": "code",
   "execution_count": null,
   "metadata": {},
   "outputs": [],
   "source": [
    "stat_normnames = imgutils.normalized_names(stat_names)\n",
    "print(stat_normnames)"
   ]
  },
  {
   "cell_type": "markdown",
   "metadata": {},
   "source": [
    "## 3. Check some combinations for patterns\n",
    "(using the seaborn pairplot)"
   ]
  },
  {
   "cell_type": "code",
   "execution_count": null,
   "metadata": {},
   "outputs": [],
   "source": [
    "import seaborn as sb"
   ]
  },
  {
   "cell_type": "code",
   "execution_count": null,
   "metadata": {},
   "outputs": [],
   "source": [
    "%matplotlib inline\n",
    "sb.pairplot(df, vars=stat_normnames)\n",
    "#sb.pairplot(df, vars=['|img_mean|','|img_min|', '|img_std|'])\n",
    "plt.show()"
   ]
  },
  {
   "cell_type": "markdown",
   "metadata": {},
   "source": [
    "## 4. Inspect interactively\n",
    "Let's inspect some combinations that have 'signs of clustering' in the interactive graph"
   ]
  },
  {
   "cell_type": "code",
   "execution_count": null,
   "metadata": {},
   "outputs": [],
   "source": [
    "%matplotlib notebook"
   ]
  },
  {
   "cell_type": "code",
   "execution_count": null,
   "metadata": {},
   "outputs": [],
   "source": [
    "imgutils.plotwithimg(df, '|img_quartile1|', '|img_quartile3|', imgutils.highlightimgslice, interactive=True)"
   ]
  },
  {
   "cell_type": "markdown",
   "metadata": {},
   "source": [
    "the black parts are easy identified, but the crystals are harder to get out"
   ]
  },
  {
   "cell_type": "code",
   "execution_count": null,
   "metadata": {},
   "outputs": [],
   "source": [
    "#Try other stats:\n",
    "statfuncs = imgutils.statfuncs_boxandwhisker()\n",
    "stat_names = imgutils.stat_names(statfuncs)\n",
    "stat_normnames = imgutils.normalized_names(stat_names)\n",
    "df = imgutils.slicestats(list(df_imgfiles['filename']), 10, 10, statfuncs)\n",
    "imgutils.normalize(df, stat_names)\n",
    "\n",
    "\n",
    "%matplotlib inline\n",
    "sb.pairplot(df, vars=stat_normnames)"
   ]
  },
  {
   "cell_type": "markdown",
   "metadata": {},
   "source": [
    "and check interactively"
   ]
  },
  {
   "cell_type": "code",
   "execution_count": null,
   "metadata": {},
   "outputs": [],
   "source": [
    "%matplotlib notebook\n",
    "imgutils.plotwithimg(df, '|img_interquartilerange|', '|img_median|', imgutils.highlightimgslice)"
   ]
  },
  {
   "cell_type": "markdown",
   "metadata": {},
   "source": [
    "lookls like 4 nice clusters, but all seem to have black grid, so stats are too coarse"
   ]
  },
  {
   "cell_type": "code",
   "execution_count": null,
   "metadata": {},
   "outputs": [],
   "source": [
    "#Try other stats:\n",
    "%matplotlib inline\n",
    "statfuncs = imgutils.statfuncs_7numsummary()\n",
    "stat_names = imgutils.stat_names(statfuncs)\n",
    "stat_normnames = imgutils.normalized_names(stat_names)\n",
    "df = imgutils.slicestats(list(df_imgfiles['filename']), 10, 10, statfuncs)\n",
    "imgutils.normalize(df, stat_names)\n",
    "\n",
    "sb.pairplot(df, vars=stat_normnames)"
   ]
  },
  {
   "cell_type": "code",
   "execution_count": null,
   "metadata": {},
   "outputs": [],
   "source": [
    "%matplotlib notebook\n",
    "imgutils.plotwithimg(df, '|img_quintile2|', '|img_quintile3|', imgutils.highlightimgslice)"
   ]
  },
  {
   "cell_type": "markdown",
   "metadata": {},
   "source": [
    "Hmmm, looks like mean and standard deviation are missing parts"
   ]
  },
  {
   "cell_type": "code",
   "execution_count": null,
   "metadata": {},
   "outputs": [],
   "source": [
    "# added one that is a mix of quartile stats and common stats\n",
    "%matplotlib inline\n",
    "statfuncs = imgutils.statfuncs_selection1()\n",
    "stat_names = imgutils.stat_names(statfuncs)\n",
    "stat_normnames = imgutils.normalized_names(stat_names)\n",
    "df = imgutils.slicestats(list(df_imgfiles['filename']), 10, 10, statfuncs)\n",
    "imgutils.normalize(df, stat_names)\n",
    "\n",
    "sb.pairplot(df, vars=stat_normnames)"
   ]
  },
  {
   "cell_type": "code",
   "execution_count": null,
   "metadata": {},
   "outputs": [],
   "source": [
    "# try some to get  separatable one\n",
    "%matplotlib notebook\n",
    "# imgutils.plotwithimg(df, '|img_std|', '|img_interquartilerange|', imgutils.highlightimgslice)\n",
    "imgutils.plotwithimg(df, '|img_std|', '|img_quartile1|', imgutils.highlightimgslice)"
   ]
  },
  {
   "cell_type": "markdown",
   "metadata": {},
   "source": [
    "quartile 1 can separate the black bars from the others. Let's try some more and then plot some heatmaps"
   ]
  },
  {
   "cell_type": "code",
   "execution_count": null,
   "metadata": {},
   "outputs": [],
   "source": [
    "%matplotlib notebook\n",
    "#imgutils.plotwithimg(df, '|img_interquartilerange|', '|img_quartile3|', imgutils.highlightimgslice)\n",
    "imgutils.plotwithimg(df, '|img_std|', '|img_mean|', imgutils.highlightimgslice)"
   ]
  },
  {
   "cell_type": "markdown",
   "metadata": {},
   "source": [
    "the real particles are 'hidden' in the cluster top-left, i.e. high mean but also some variance. I can try as a 'separator' the summation of both."
   ]
  },
  {
   "cell_type": "markdown",
   "metadata": {},
   "source": [
    "## 5. Heatmaps\n",
    "\n",
    "Let's do an attempt to create a score for a heatmap. Looks like |img_std| is most infromative"
   ]
  },
  {
   "cell_type": "code",
   "execution_count": null,
   "metadata": {},
   "outputs": [],
   "source": [
    "imgname = df_imgfiles.iloc[0]['filename']\n",
    "print(imgname)"
   ]
  },
  {
   "cell_type": "code",
   "execution_count": null,
   "metadata": {},
   "outputs": [],
   "source": [
    "# looks like here that if quartile 2 needs to be > 0 and quartile 1 < -1\n",
    "df['score'] = df['img_quartile1']\n",
    "df['|score|'] = imgutils.norm_minmax(df, 'score')"
   ]
  },
  {
   "cell_type": "code",
   "execution_count": null,
   "metadata": {},
   "outputs": [],
   "source": [
    "imgname = df_imgfiles.iloc[0]['filename']\n",
    "imgs, heats = imgutils.getimgslices_fromdf(df, imgname, '|score|')\n",
    "imgutils.showheatmap(imgs, heats, cmapname='RdYlGn', opacity=0.5, heatdepend_opacity = False)"
   ]
  },
  {
   "cell_type": "code",
   "execution_count": null,
   "metadata": {},
   "outputs": [],
   "source": [
    "imgname = df_imgfiles.iloc[2]['filename']\n",
    "imgs, heats = imgutils.getimgslices_fromdf(df, imgname, '|score|')\n",
    "imgutils.showheatmap(imgs, heats, cmapname='RdYlGn', opacity=0.5, heatdepend_opacity = False)"
   ]
  },
  {
   "cell_type": "code",
   "execution_count": null,
   "metadata": {},
   "outputs": [],
   "source": [
    "imgname = df_imgfiles.iloc[1]['filename']\n",
    "imgs, heats = imgutils.getimgslices_fromdf(df, imgname, '|score|')\n",
    "imgutils.showheatmap(imgs, heats, cmapname='RdYlGn', opacity=0.5, heatdepend_opacity = False)"
   ]
  },
  {
   "cell_type": "markdown",
   "metadata": {},
   "source": [
    "Hmm"
   ]
  },
  {
   "cell_type": "raw",
   "metadata": {},
   "source": [
    "try the other score:"
   ]
  },
  {
   "cell_type": "code",
   "execution_count": null,
   "metadata": {},
   "outputs": [],
   "source": [
    "# looks like here that if quartile 2 needs to be > 0 and quartile 1 < -1\n",
    "df['score2'] = df['img_mean'] + df['img_std']\n",
    "df['|score2|'] = imgutils.norm_standardize(df, 'score2')"
   ]
  },
  {
   "cell_type": "code",
   "execution_count": null,
   "metadata": {},
   "outputs": [],
   "source": [
    "imgname = df_imgfiles.iloc[0]['filename']\n",
    "imgs, heats = imgutils.getimgslices_fromdf(df, imgname, '|score2|')\n",
    "imgutils.showheatmap(imgs, heats, cmapname='RdYlGn', opacity=0.5, heatdepend_opacity = False)"
   ]
  },
  {
   "cell_type": "code",
   "execution_count": null,
   "metadata": {},
   "outputs": [],
   "source": [
    "imgname = df_imgfiles.iloc[1]['filename']\n",
    "imgs, heats = imgutils.getimgslices_fromdf(df, imgname, '|score2|')\n",
    "imgutils.showheatmap(imgs, heats, cmapname='RdYlGn', opacity=0.5, heatdepend_opacity = False)"
   ]
  },
  {
   "cell_type": "raw",
   "metadata": {},
   "source": [
    "I really think this needs 3 dimensions!"
   ]
  },
  {
   "cell_type": "code",
   "execution_count": null,
   "metadata": {},
   "outputs": [],
   "source": [
    "from mpl_toolkits.mplot3d import Axes3D\n",
    "%matplotlib notebook"
   ]
  },
  {
   "cell_type": "code",
   "execution_count": null,
   "metadata": {},
   "outputs": [],
   "source": [
    "fig = plt.figure()\n",
    "ax = Axes3D(fig)\n",
    "\n",
    "ax.scatter(df['|img_quartile1|'], df['|img_mean|'], df['|img_std|'])\n",
    "plt.show()"
   ]
  },
  {
   "cell_type": "code",
   "execution_count": null,
   "metadata": {},
   "outputs": [],
   "source": [
    "fig = plt.figure()\n",
    "ax = Axes3D(fig)\n",
    "\n",
    "ax.scatter(df['|img_quartile1|'], df['|img_quartile3|'], df['|img_median|'])\n",
    "plt.show()"
   ]
  },
  {
   "cell_type": "code",
   "execution_count": null,
   "metadata": {},
   "outputs": [],
   "source": [
    "fig = plt.figure()\n",
    "ax = Axes3D(fig)\n",
    "\n",
    "ax.scatter(df['|img_interquartilerange|'], df['|img_mean|'], df['|img_std|'])\n",
    "plt.show()"
   ]
  },
  {
   "cell_type": "markdown",
   "metadata": {},
   "source": [
    "## 6. Conclusions & Remarks\n",
    "- need mutli-dimension analyses and e.g. PCA; let's export these values for that!\n",
    "- consider pre-filtering the image to take out the noise (99% range)\n",
    "- consider re-scaling images two 2k x 2k or 1k x 1k for performance\n",
    "\n"
   ]
  },
  {
   "cell_type": "code",
   "execution_count": null,
   "metadata": {},
   "outputs": [],
   "source": []
  },
  {
   "cell_type": "markdown",
   "metadata": {},
   "source": [
    "## 7. Next steps\n",
    "- Export this data set for multi dimension visualization\n"
   ]
  },
  {
   "cell_type": "markdown",
   "metadata": {},
   "source": [
    "Michael Janus, 19 June 2018"
   ]
  },
  {
   "cell_type": "code",
   "execution_count": null,
   "metadata": {},
   "outputs": [],
   "source": []
  }
 ],
 "metadata": {
  "kernelspec": {
   "display_name": "Python 3",
   "language": "python",
   "name": "python3"
  },
  "language_info": {
   "codemirror_mode": {
    "name": "ipython",
    "version": 3
   },
   "file_extension": ".py",
   "mimetype": "text/x-python",
   "name": "python",
   "nbconvert_exporter": "python",
   "pygments_lexer": "ipython3",
   "version": "3.6.4"
  }
 },
 "nbformat": 4,
 "nbformat_minor": 1
}
