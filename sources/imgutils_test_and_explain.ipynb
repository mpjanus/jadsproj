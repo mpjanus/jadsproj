{
 "cells": [
  {
   "cell_type": "markdown",
   "metadata": {},
   "source": [
    "# Testing of Img Utils (Data Engineering & Exploration)\n",
    "\n",
    "Michael Janus, May/June 2018"
   ]
  },
  {
   "cell_type": "markdown",
   "metadata": {},
   "source": [
    "Goal of this notebook is to test and validate the functions in **imgutils**, which functions as the infrastructure for the data engineering and exploration. For most functions, there are test-functions in **imgutils_test**, which also show how to use the functions together."
   ]
  },
  {
   "cell_type": "markdown",
   "metadata": {},
   "source": [
    "## 1. Import the used modules, including the one with test functions:"
   ]
  },
  {
   "cell_type": "code",
   "execution_count": null,
   "metadata": {},
   "outputs": [],
   "source": [
    "import warnings\n",
    "warnings.filterwarnings(\"ignore\", category=DeprecationWarning)\n",
    "\n",
    "import matplotlib\n",
    "\n",
    "import imgutils\n",
    "import imgutils_test as tst"
   ]
  },
  {
   "cell_type": "code",
   "execution_count": null,
   "metadata": {},
   "outputs": [],
   "source": [
    "# Re-run this cell if you altered imgutils or imgutils_test\n",
    "import importlib\n",
    "importlib.reload(imgutils)\n",
    "importlib.reload(tst)"
   ]
  },
  {
   "cell_type": "markdown",
   "metadata": {},
   "source": [
    "## 2. Test the basic image IO and display"
   ]
  },
  {
   "cell_type": "code",
   "execution_count": null,
   "metadata": {},
   "outputs": [],
   "source": [
    "tst.test_scanimgdir()"
   ]
  },
  {
   "cell_type": "code",
   "execution_count": null,
   "metadata": {},
   "outputs": [],
   "source": [
    "tst.test_loadandshowimg()"
   ]
  },
  {
   "cell_type": "code",
   "execution_count": null,
   "metadata": {},
   "outputs": [],
   "source": [
    "tst.test_loadandshowimgs()   # shows array of images"
   ]
  },
  {
   "cell_type": "markdown",
   "metadata": {},
   "source": [
    "## 3. Test image slicing\n",
    "The image slice functions cut-up an image into sub-images. \n",
    "The test function loads an image, slices it up and shows the array of images"
   ]
  },
  {
   "cell_type": "code",
   "execution_count": null,
   "metadata": {},
   "outputs": [],
   "source": [
    "tst.test_sliceimage(6,5)"
   ]
  },
  {
   "cell_type": "markdown",
   "metadata": {},
   "source": [
    "## 4. Test the heatmap display \n",
    "The heatmap slices up an image and overlays a heat color over the image slice. The test function uses fake heats"
   ]
  },
  {
   "cell_type": "code",
   "execution_count": null,
   "metadata": {},
   "outputs": [],
   "source": [
    "tst.test_heatmap()"
   ]
  },
  {
   "cell_type": "markdown",
   "metadata": {},
   "source": [
    "## 5. Test the slice statistics functions\n",
    "There are individual functions to return the statistics of an image. \n",
    "The **slicestats()** function combines image slicing and "
   ]
  },
  {
   "cell_type": "code",
   "execution_count": null,
   "metadata": {},
   "outputs": [],
   "source": [
    "# first test dataframe stuff without statistics:\n",
    "df1 = tst.test_slicestats_df()\n",
    "df1.head()"
   ]
  },
  {
   "cell_type": "markdown",
   "metadata": {},
   "source": [
    "n_y and n_x are the number of slices in the image in y and x direction; (s_x, s_y) is the slice index"
   ]
  },
  {
   "cell_type": "code",
   "execution_count": null,
   "metadata": {},
   "outputs": [],
   "source": [
    "# get a single slice from this dataframe:\n",
    "sliceimg = imgutils.getimgslice(df1, 4)\n",
    "imgutils.showimg(sliceimg)"
   ]
  },
  {
   "cell_type": "code",
   "execution_count": null,
   "metadata": {},
   "outputs": [],
   "source": [
    "# test the  image statistics functions:\n",
    "tst.test_statfuncs(sliceimg)"
   ]
  },
  {
   "cell_type": "markdown",
   "metadata": {},
   "source": [
    "#### Now test the function that combines slicing and statistics:"
   ]
  },
  {
   "cell_type": "code",
   "execution_count": null,
   "metadata": {
    "scrolled": true
   },
   "outputs": [],
   "source": [
    "df2 = tst.test_slicestats()\n"
   ]
  },
  {
   "cell_type": "markdown",
   "metadata": {},
   "source": [
    "## 6. Test the visualization of stats (interactive graph with image display)"
   ]
  },
  {
   "cell_type": "markdown",
   "metadata": {},
   "source": [
    "This is based on a matplotlib graph with events hooked up to show the image that corresponds to the datapoint when clicked.\n",
    "\n",
    "Notes:\n",
    "- This function is not without issues, as it requires a switch to turn on interactivity.\n",
    "- This sometimes requires restarting the kernel for it to work\n",
    "- Behavior in e.g. PyCharm is slightly different, only updating when rescaling the graph window\n",
    "- click the 'standby button' (top-right) to fix it into the notebook (if you don't click it, next graphs replace the one still open)"
   ]
  },
  {
   "cell_type": "code",
   "execution_count": null,
   "metadata": {
    "scrolled": false
   },
   "outputs": [],
   "source": [
    "# need to tell matplotlib it's in a notebook, otherwise interactivity does not work\n",
    "%matplotlib notebook   \n",
    "imgutils.plotwithimg(df2, 'img_mean', 'img_std', imgutils.getimgslice)"
   ]
  },
  {
   "cell_type": "markdown",
   "metadata": {},
   "source": [
    "#### Click on point in lower-right; data point 4 ... is that noise or on a crystal?"
   ]
  },
  {
   "cell_type": "markdown",
   "metadata": {},
   "source": [
    "\n",
    "## Without context (i.e. image surrounding), still hard to judge image!\n",
    "### So I create an alternative image display, which shows the slice in context\n",
    "\n",
    "(I modified interactive graph plotwithimg so you can inject it with different image display)\n"
   ]
  },
  {
   "cell_type": "code",
   "execution_count": null,
   "metadata": {},
   "outputs": [],
   "source": [
    "imgutils.plotwithimg(df2, 'img_mean', 'img_std', imgutils.highlightimgslice, True)"
   ]
  },
  {
   "cell_type": "markdown",
   "metadata": {},
   "source": [
    "Now it's much clearer what the slice of the data point really is."
   ]
  },
  {
   "cell_type": "markdown",
   "metadata": {},
   "source": [
    "## 7. Normalization\n",
    "The data should actually be normalized to reasonable values.\n",
    "A common way is to use 'standardization' (see https://en.wikipedia.org/wiki/Normalization_(statistics) )."
   ]
  },
  {
   "cell_type": "code",
   "execution_count": null,
   "metadata": {},
   "outputs": [],
   "source": [
    "imgutils.normalize(df2,['img_min'])\n",
    "df2.head(3)"
   ]
  },
  {
   "cell_type": "code",
   "execution_count": null,
   "metadata": {},
   "outputs": [],
   "source": [
    "# check if indeed the mean of standardized column is 0 and has std_dev of 1:\n",
    "print(df2['|img_min|'].mean())\n",
    "print(df2['|img_min|'].std())"
   ]
  },
  {
   "cell_type": "markdown",
   "metadata": {},
   "source": [
    "Ok (apart from some rounding)"
   ]
  },
  {
   "cell_type": "markdown",
   "metadata": {},
   "source": [
    "Now apply it to the other columns"
   ]
  },
  {
   "cell_type": "code",
   "execution_count": null,
   "metadata": {},
   "outputs": [],
   "source": [
    "imgutils.normalize(df2, ['img_max', 'img_mean', 'img_std'])\n",
    "df2.head(3)\n"
   ]
  },
  {
   "cell_type": "markdown",
   "metadata": {},
   "source": [
    "Plot the normalized version"
   ]
  },
  {
   "cell_type": "code",
   "execution_count": null,
   "metadata": {},
   "outputs": [],
   "source": [
    "imgutils.plotwithimg(df2, '|img_mean|', '|img_std|', imgutils.highlightimgslice, True)"
   ]
  },
  {
   "cell_type": "markdown",
   "metadata": {},
   "source": [
    "## 8. Play more with this test dataset...\n",
    "Instead of the test-functions, let's use the imgutils functions directly"
   ]
  },
  {
   "cell_type": "code",
   "execution_count": null,
   "metadata": {},
   "outputs": [],
   "source": [
    "statfuncs = [imgutils.img_min, imgutils.img_max, imgutils.img_range, imgutils.img_mean, imgutils.img_std]\n",
    "df_imgfiles = imgutils.scanimgdir('', '.tif')\n",
    "imgfiles = list(df_imgfiles['filename'])\n",
    "df3 = imgutils.slicestats(imgfiles, 4, 4, statfuncs)\n",
    "df3.head()"
   ]
  },
  {
   "cell_type": "code",
   "execution_count": null,
   "metadata": {},
   "outputs": [],
   "source": [
    "imgutils.normalize(df3, ['img_min', 'img_max', 'img_range', 'img_mean', 'img_std'])\n",
    "df3.head(2)"
   ]
  },
  {
   "cell_type": "markdown",
   "metadata": {},
   "source": [
    "Let's do a 'pair-plot' to see if there something obvious"
   ]
  },
  {
   "cell_type": "code",
   "execution_count": null,
   "metadata": {},
   "outputs": [],
   "source": [
    "import seaborn as sb"
   ]
  },
  {
   "cell_type": "code",
   "execution_count": null,
   "metadata": {},
   "outputs": [],
   "source": [
    "sb.pairplot(df3, vars=['|img_min|','|img_max|', '|img_range|','|img_mean|', '|img_std|'])"
   ]
  },
  {
   "cell_type": "markdown",
   "metadata": {},
   "source": [
    "### Let's inspect some combinations that have 'signs of clustering' in the interactive graph"
   ]
  },
  {
   "cell_type": "code",
   "execution_count": null,
   "metadata": {},
   "outputs": [],
   "source": [
    "imgutils.plotwithimg(df3, '|img_mean|', '|img_range|', imgutils.highlightimgslice, True)"
   ]
  },
  {
   "cell_type": "code",
   "execution_count": null,
   "metadata": {},
   "outputs": [],
   "source": [
    "imgutils.plotwithimg(df3, '|img_mean|', '|img_std|', imgutils.highlightimgslice, True)"
   ]
  },
  {
   "cell_type": "code",
   "execution_count": null,
   "metadata": {},
   "outputs": [],
   "source": [
    "imgutils.plotwithimg(df3, '|img_range|', '|img_std|', imgutils.highlightimgslice, True)"
   ]
  },
  {
   "cell_type": "markdown",
   "metadata": {},
   "source": [
    "## 9. Conclusions\n",
    "- Build a number of infrastructural functions for the data engineering and exploration\n",
    "- This notebook demonstrates how to use these functions\n",
    "- It also shows with the test images that the concept of using simple statics on sub-images to reveal particles looks promosing!\n"
   ]
  },
  {
   "cell_type": "markdown",
   "metadata": {},
   "source": [
    "## 10. Next steps: Try this out on larger set!\n",
    "\n"
   ]
  },
  {
   "cell_type": "markdown",
   "metadata": {},
   "source": [
    "Michael Janus, 14 June 2018"
   ]
  },
  {
   "cell_type": "code",
   "execution_count": null,
   "metadata": {},
   "outputs": [],
   "source": []
  }
 ],
 "metadata": {
  "kernelspec": {
   "display_name": "Python 3",
   "language": "python",
   "name": "python3"
  },
  "language_info": {
   "codemirror_mode": {
    "name": "ipython",
    "version": 3
   },
   "file_extension": ".py",
   "mimetype": "text/x-python",
   "name": "python",
   "nbconvert_exporter": "python",
   "pygments_lexer": "ipython3",
   "version": "3.6.4"
  }
 },
 "nbformat": 4,
 "nbformat_minor": 1
}
