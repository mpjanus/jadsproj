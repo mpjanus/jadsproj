{
 "cells": [
  {
   "cell_type": "markdown",
   "metadata": {
    "collapsed": true
   },
   "source": [
    "# Assessing Dimensionality (on Tileset7) - July 2017\n",
    "Created:  5 July 2018 <br>\n",
    "Last update: 10 july 2018\n",
    "\n",
    "\n",
    "### Comparing Manifold Learning Methods / Dimensionality Reduction Techniques\n",
    "This notebook follows the Dimensionality notebook from Pierluggi \n"
   ]
  },
  {
   "cell_type": "markdown",
   "metadata": {},
   "source": [
    "## 1. Imports"
   ]
  },
  {
   "cell_type": "code",
   "execution_count": null,
   "metadata": {},
   "outputs": [],
   "source": [
    "# this will remove warnings messages\n",
    "import warnings\n",
    "warnings.filterwarnings('ignore')\n",
    "\n",
    "import numpy as np\n",
    "import pandas as pd\n",
    "\n",
    "import matplotlib.pyplot as plt\n",
    "%matplotlib inline\n",
    "\n",
    "# import\n",
    "from time import time\n",
    "from mpl_toolkits.mplot3d import Axes3D\n",
    "from matplotlib.ticker import NullFormatter\n",
    "from matplotlib import offsetbox\n",
    "\n",
    "from sklearn import manifold, datasets, decomposition, random_projection\n",
    "from sklearn.preprocessing import LabelEncoder\n",
    "\n",
    "import imgutils"
   ]
  },
  {
   "cell_type": "code",
   "execution_count": null,
   "metadata": {},
   "outputs": [],
   "source": [
    "# Re-run this cell if you altered imgutils\n",
    "import importlib\n",
    "importlib.reload(imgutils)"
   ]
  },
  {
   "cell_type": "markdown",
   "metadata": {},
   "source": [
    "## 2. Import Crystal Image Data & Statistics\n",
    "The data was labeled and exported to csv in the notebook realxtals1_dataeng1.ipynb\n",
    "\n",
    "#### About the data:\n",
    "The CSV contains the image files, slice information (sub-images) and associated statistics, which are the features for which a classifier needs to be found. \n",
    "\n",
    "The goal is to find the clustering in feature-space and use those to categorize the images. For this particular dataset, a single statistics could be used to label into three classes:<br>\n",
    "\n",
    "A = subimage contains no crystal, <br>\n",
    "B = part of subimage contains crystal, <br>\n",
    "C = (most of) subimage contains crystal\n",
    "\n",
    "But the labels have been added here for analyses, eventually the data will be unlabelled.\n",
    "\n",
    " \n",
    "\n"
   ]
  },
  {
   "cell_type": "markdown",
   "metadata": {},
   "source": [
    "Import data:"
   ]
  },
  {
   "cell_type": "code",
   "execution_count": null,
   "metadata": {},
   "outputs": [],
   "source": [
    "df = pd.read_csv('../data/Crystals_Apr_12/Tileset7-2.csv', sep=';')\n",
    "df.head()"
   ]
  },
  {
   "cell_type": "markdown",
   "metadata": {},
   "source": [
    "Quick visual inspection:"
   ]
  },
  {
   "cell_type": "code",
   "execution_count": null,
   "metadata": {},
   "outputs": [],
   "source": [
    "# trick to convert category labels into color codes\n",
    "color = pd.DataFrame(df['class'].astype('category'))['class'].cat.codes\n",
    "\n",
    "# plot it in 3 dimensions, choosing some stats\n",
    "fig0 = plt.figure(figsize=(16, 12))\n",
    "plt.suptitle(\"Tileset 7\",fontsize=14)\n",
    "ax = fig0.add_subplot(111, projection='3d')\n",
    "ax.scatter(df['|img_mean|'], df['|img_std|'], df['|img_mode|'], c=color)\n",
    "ax.set_xlabel('|img_mean|')\n",
    "ax.set_ylabel('|img_std|')\n",
    "ax.set_zlabel('|img_mode|')\n",
    "ax.view_init(14, -72)"
   ]
  },
  {
   "cell_type": "markdown",
   "metadata": {},
   "source": [
    "## 3. Vectorize the data for sklearn manifold methods"
   ]
  },
  {
   "cell_type": "code",
   "execution_count": null,
   "metadata": {},
   "outputs": [],
   "source": [
    "# convert labels into values\n",
    "le = LabelEncoder()\n",
    "df[\"|class|\"] = le.fit_transform(df[\"class\"])"
   ]
  },
  {
   "cell_type": "code",
   "execution_count": null,
   "metadata": {},
   "outputs": [],
   "source": [
    "# convert into X Y vectors:\n",
    "feature_cols = ['|img_std|', '|img_mean|','|img_skewness|', '|img_mode|', '|img_kurtosis|']\n",
    "X = df.loc[:,feature_cols]\n",
    "Y = df.loc[:,'|class|']\n",
    "\n"
   ]
  },
  {
   "cell_type": "markdown",
   "metadata": {},
   "source": [
    "## 4. Try two methods\n",
    "\n",
    "### A. Random Projections"
   ]
  },
  {
   "cell_type": "code",
   "execution_count": null,
   "metadata": {
    "scrolled": false
   },
   "outputs": [],
   "source": [
    "\n",
    "rp = random_projection.SparseRandomProjection(n_components=2, random_state=20)\n",
    " \n",
    "X_rp = rp.fit_transform(X)\n",
    "\n",
    "fig = plt.figure(figsize=(16, 12))\n",
    "fig = plt.scatter(X_rp[:, 0], X_rp[:, 1], c=color)\n",
    "fig = plt.title(\"Random Projection\")\n",
    "fig = plt.xticks([]), plt.yticks([])\n"
   ]
  },
  {
   "cell_type": "markdown",
   "metadata": {},
   "source": [
    "does not go too well, plots it all on one line (if you reduce number of variables, it looks better)"
   ]
  },
  {
   "cell_type": "markdown",
   "metadata": {},
   "source": [
    "### B. The Most Advanced: tSNE"
   ]
  },
  {
   "cell_type": "code",
   "execution_count": null,
   "metadata": {
    "scrolled": false
   },
   "outputs": [],
   "source": [
    "tsne = manifold.TSNE(n_components=2, random_state=0)\n",
    "\n",
    "X_tsne = tsne.fit_transform(X)\n",
    "  \n",
    "fig = plt.figure(figsize=(16, 12))\n",
    "fig = plt.scatter(X_tsne[:, 0], X_tsne[:, 1], c=color)\n",
    "fig = plt.title(\"tSNE\")\n",
    "fig = plt.xticks([]), plt.yticks([])"
   ]
  },
  {
   "cell_type": "markdown",
   "metadata": {},
   "source": [
    "## 5. Try a bunch of dimensionality reduction techniques"
   ]
  },
  {
   "cell_type": "code",
   "execution_count": null,
   "metadata": {},
   "outputs": [],
   "source": [
    "n_neighbors = 20\n",
    "n_components = 2\n",
    "\n",
    "fig = plt.figure(figsize=(16, 12))\n",
    "\n",
    "#----------------------------------------------------------------------x\n",
    "print(\"Computing Random Projection\")\n",
    "rp = random_projection.SparseRandomProjection(n_components=2, random_state=20)\n",
    "t0 = time()\n",
    "X_rp = rp.fit_transform(X)\n",
    "t1 = time()\n",
    "plt.subplot(3,2,1)\n",
    "plt.scatter(X_rp[:, 0], X_rp[:, 1], c=color)\n",
    "plt.title(\"Random Projection (%.2g sec)\" % (t1 - t0))\n",
    "plt.xticks([]), plt.yticks([])\n",
    "\n",
    "#----------------------------------------------------------------------\n",
    "print(\"Computing PCA\")\n",
    "pca = decomposition.TruncatedSVD(n_components=2)\n",
    "t0 = time()\n",
    "X_pca = pca.fit_transform(X)\n",
    "t1 = time()\n",
    "plt.subplot(3,2,2)\n",
    "plt.scatter(X_pca[:, 0], X_pca[:, 1], c=color)\n",
    "plt.title(\"PCA (%.2g sec)\" % (t1 - t0))\n",
    "plt.xticks([]), plt.yticks([])\n",
    "\n",
    "#----------------------------------------------------------------------\n",
    "print(\"Computing Isomap\")\n",
    "iso = manifold.Isomap(n_neighbors, n_components)\n",
    "t0 = time()\n",
    "X_iso = iso.fit_transform(X)\n",
    "t1 = time()\n",
    "plt.subplot(3,2,3)\n",
    "plt.scatter(X_iso[:, 0], X_iso[:, 1], c=color, cmap=plt.cm.Spectral)\n",
    "plt.title(\"Isomap (%.2g sec)\" % (t1 - t0))\n",
    "plt.xticks([]), plt.yticks([])\n",
    "\n",
    "#----------------------------------------------------------------------\n",
    "print(\"Computing MDS\")\n",
    "mds = manifold.MDS(n_components, max_iter=100, n_init=1)\n",
    "t0 = time()\n",
    "X_mds = mds.fit_transform(X)\n",
    "t1 = time()\n",
    "plt.subplot(3,2,4)\n",
    "plt.scatter(X_mds[:, 0], X_mds[:, 1], c=color)\n",
    "plt.title(\"MDS (%.2g sec)\" % (t1 - t0))\n",
    "plt.xticks([]), plt.yticks([])\n",
    "\n",
    "#----------------------------------------------------------------------\n",
    "print(\"Computing Specral Embedding\")\n",
    "se = manifold.SpectralEmbedding(n_components=n_components,\n",
    "                                n_neighbors=n_neighbors)\n",
    "t0 = time()\n",
    "X_se = se.fit_transform(X)\n",
    "t1 = time()\n",
    "plt.subplot(3,2,5)\n",
    "plt.scatter(X_se[:, 0], X_se[:, 1], c=color)\n",
    "plt.title(\"Spectral Embedding (%.2g sec)\" % (t1 - t0))\n",
    "plt.xticks([]), plt.yticks([])\n",
    "\n",
    "#----------------------------------------------------------------------\n",
    "print(\"Computing t-SNE\")\n",
    "tsne = manifold.TSNE(n_components=n_components, init='pca', random_state=0)\n",
    "t0 = time()\n",
    "X_tsne = tsne.fit_transform(X)\n",
    "t1 = time()\n",
    "plt.subplot(3,2,6)\n",
    "plt.scatter(X_tsne[:, 0], X_tsne[:, 1], c=color)\n",
    "plt.title(\"t-SNE (%.2g sec)\" % (t1 - t0))\n",
    "plt.xticks([]), plt.yticks([]);"
   ]
  },
  {
   "cell_type": "markdown",
   "metadata": {},
   "source": [
    "For this dataset, PCA and IsoMap look most promising"
   ]
  },
  {
   "cell_type": "markdown",
   "metadata": {},
   "source": [
    "## 6. Improve visualization: plot with images as annotations\n"
   ]
  },
  {
   "cell_type": "markdown",
   "metadata": {},
   "source": [
    "First a try-out with own code, snippets from the internet and reading into matplotlib API"
   ]
  },
  {
   "cell_type": "code",
   "execution_count": null,
   "metadata": {},
   "outputs": [],
   "source": [
    "from skimage.transform import resize\n",
    "from matplotlib.offsetbox import (OffsetImage, AnnotationBbox)\n",
    "import imgutils\n",
    "\n",
    "def plot_with_imgs(X, df_img, class_field, title, ax=None, img_size=(24,24)):\n",
    "    \"\"\"Generates a scatter plot with thumbnails of the images corresponding to the data points. \"\"\"\n",
    "    \n",
    "    # trick to convert category labels into color codes\n",
    "    colors = pd.DataFrame(df_img[class_field].astype('category'))[class_field].cat.codes\n",
    "    \n",
    "    # with ax, an existing subplot can be filled\n",
    "    if (ax==None):\n",
    "        fig = plt.figure(figsize=(16, 12))\n",
    "        ax = fig.add_subplot(111)\n",
    "        \n",
    "    plt.scatter(X[:, 0], X[:, 1], c=colors)\n",
    "   \n",
    "    cmap = plt.cm.get_cmap('tab10')\n",
    "   \n",
    "    for i in range(X.shape[0]):\n",
    "        img = imgutils.getimgslice(df_img, i)\n",
    "        thumbnail = resize(img, img_size)\n",
    "            \n",
    "        imagebox = OffsetImage(thumbnail,cmap=plt.cm.gray_r)\n",
    "        imagebox.image.axes = ax\n",
    "        xy = (X[i,0],X[i,1])\n",
    "        ab = AnnotationBbox(imagebox, xy, bboxprops =dict(edgecolor=cmap(colors[i])))\n",
    "        #ab.set_zorder(0)\n",
    "        ax.add_artist(ab)\n",
    "        \n",
    "\n",
    "    plt.title(title)\n",
    "    plt.xticks([]), plt.yticks([])"
   ]
  },
  {
   "cell_type": "code",
   "execution_count": null,
   "metadata": {},
   "outputs": [],
   "source": [
    "plot_with_imgs(X.values, df, 'class', 'TEST' )"
   ]
  },
  {
   "cell_type": "markdown",
   "metadata": {},
   "source": [
    "Looks good.  Would be even better if I can combine this with the interactive plotting I created in imgutils.\n",
    "\n",
    "So let's extend those methods with the image annotations...\n",
    "(adjusting imgutils)\n",
    "... and test the result"
   ]
  },
  {
   "cell_type": "code",
   "execution_count": null,
   "metadata": {},
   "outputs": [],
   "source": [
    "# now use the updated plotwithimg\n",
    "%matplotlib notebook\n",
    "imgutils.plotwithimg(df, '|img_mean|', '|img_std|', imgutils.highlightimgslice, cat_field='class', interactive=True, thumbnails=True)"
   ]
  },
  {
   "cell_type": "code",
   "execution_count": null,
   "metadata": {},
   "outputs": [],
   "source": [
    "# and now the pca one\n",
    "df['pca_1'] = X_pca[:,0].tolist()\n",
    "df['pca_2'] = X_pca[:,1].tolist()\n",
    "\n",
    "%matplotlib notebook\n",
    "imgutils.plotwithimg(df, 'pca_1', 'pca_2', imgutils.highlightimgslice, cat_field='class', interactive=True, thumbnails=True)"
   ]
  },
  {
   "cell_type": "markdown",
   "metadata": {},
   "source": [
    "## 7. Show the different techniques with the new visualization"
   ]
  },
  {
   "cell_type": "code",
   "execution_count": null,
   "metadata": {},
   "outputs": [],
   "source": [
    "# Try now to use on all dimensionality reduction tricks:\n",
    "n_neighbors = 20\n",
    "n_components = 2\n",
    "\n",
    "# as this needs to plot multiple in a single sell, disable interactivity\n",
    "%matplotlib inline\n",
    "\n",
    "#----------------------------------------------------------------------x\n",
    "print(\"Computing Random Projection\")\n",
    "rp = random_projection.SparseRandomProjection(n_components=2, random_state=20)\n",
    "t0 = time()\n",
    "X_rp = rp.fit_transform(X)\n",
    "t1 = time()\n",
    "title =\"Random Projection (%.2g sec)\" % (t1 - t0) \n",
    "fieldname1 = 'rp_1'\n",
    "fieldname2 = 'rp_2'\n",
    "df[fieldname1] = X_rp[:,0].tolist()\n",
    "df[fieldname2] = X_rp[:,1].tolist()\n",
    "imgutils.plotwithimg(df, fieldname1, fieldname2, imgutils.getimgslice, cat_field='class', thumbnails=True, interactive=False)\n",
    "\n",
    "#----------------------------------------------------------------------\n",
    "print(\"Computing PCA\")\n",
    "pca = decomposition.TruncatedSVD(n_components=2)\n",
    "t0 = time()\n",
    "X_pca = pca.fit_transform(X)\n",
    "t1 = time()\n",
    "title = \"PCA (%.2g sec)\" % (t1 - t0)\n",
    "fieldname1 = 'pca_1'\n",
    "fieldname2 = 'pca_2'\n",
    "df[fieldname1] = X_pca[:,0].tolist()\n",
    "df[fieldname2] = X_pca[:,1].tolist()\n",
    "imgutils.plotwithimg(df, fieldname1, fieldname2, imgutils.getimgslice, cat_field='class', thumbnails=True, interactive=False)\n",
    "\n",
    "#----------------------------------------------------------------------\n",
    "print(\"Computing Isomap\")\n",
    "iso = manifold.Isomap(n_neighbors, n_components)\n",
    "t0 = time()\n",
    "X_iso = iso.fit_transform(X)\n",
    "t1 = time()\n",
    "title = \"Isomap (%.2g sec)\" % (t1 - t0)\n",
    "fieldname1 = 'iso_1'\n",
    "fieldname2 = 'iso_2'\n",
    "df[fieldname1] = X_iso[:,0].tolist()\n",
    "df[fieldname2] = X_iso[:,1].tolist()\n",
    "imgutils.plotwithimg(df, fieldname1, fieldname2, imgutils.getimgslice, cat_field='class', thumbnails=True, interactive=False)\n",
    "\n",
    "#----------------------------------------------------------------------\n",
    "print(\"Computing MDS\")\n",
    "mds = manifold.MDS(n_components, max_iter=100, n_init=1)\n",
    "t0 = time()\n",
    "X_mds = mds.fit_transform(X)\n",
    "t1 = time()\n",
    "title =\"MDS (%.2g sec)\" % (t1 - t0) \n",
    "fieldname1 = 'mds_1'\n",
    "fieldname2 = 'mds_2'\n",
    "df[fieldname1] = X_mds[:,0].tolist()\n",
    "df[fieldname2] = X_mds[:,1].tolist()\n",
    "imgutils.plotwithimg(df, fieldname1, fieldname2, imgutils.getimgslice, cat_field='class', thumbnails=True, interactive=False)\n",
    "\n",
    "#----------------------------------------------------------------------\n",
    "print(\"Computing Specral Embedding\")\n",
    "se = manifold.SpectralEmbedding(n_components=n_components,\n",
    "                                n_neighbors=n_neighbors)\n",
    "t0 = time()\n",
    "X_se = se.fit_transform(X)\n",
    "t1 = time()\n",
    "title = \"Spectral Embedding (%.2g sec)\" % (t1 - t0)\n",
    "fieldname1 = 'se_1'\n",
    "fieldname2 = 'se_2'\n",
    "df[fieldname1] = X_se[:,0].tolist()\n",
    "df[fieldname2] = X_se[:,1].tolist()\n",
    "imgutils.plotwithimg(df, fieldname1, fieldname2, imgutils.getimgslice, cat_field='class', thumbnails=True, interactive=False)\n",
    "\n",
    "\n",
    "#----------------------------------------------------------------------\n",
    "print(\"Computing t-SNE\")\n",
    "tsne = manifold.TSNE(n_components=n_components, init='pca', random_state=0)\n",
    "t0 = time()\n",
    "X_tsne = tsne.fit_transform(X)\n",
    "t1 = time()\n",
    "title = \"t-SNE (%.2g sec)\" % (t1 - t0)\n",
    "fieldname1 = 'tsne_1'\n",
    "fieldname2 = 'tsne_2'\n",
    "df[fieldname1] = X_tsne[:,0].tolist()\n",
    "df[fieldname2] = X_tsne[:,1].tolist()\n",
    "imgutils.plotwithimg(df, fieldname1, fieldname2, imgutils.getimgslice, cat_field='class', thumbnails=True, interactive=False)\n",
    "\n"
   ]
  },
  {
   "cell_type": "markdown",
   "metadata": {},
   "source": [
    "### Nice, these type of plots are going to help with the harder data sets.\n",
    "\n"
   ]
  },
  {
   "cell_type": "markdown",
   "metadata": {},
   "source": [
    "## 8. Next Steps:\n",
    "- Try the 'feature selection' notebook approach on this data set \n",
    "- Try unsupervised learning on this data set (maybe first apply PCA or IsoMap) \n",
    "- Repeat this notebook on harder dataset\n",
    "\n",
    "\n",
    "Michael Janus, 5 July 2018"
   ]
  },
  {
   "cell_type": "code",
   "execution_count": null,
   "metadata": {},
   "outputs": [],
   "source": []
  }
 ],
 "metadata": {
  "kernelspec": {
   "display_name": "Python 3",
   "language": "python",
   "name": "python3"
  },
  "language_info": {
   "codemirror_mode": {
    "name": "ipython",
    "version": 3
   },
   "file_extension": ".py",
   "mimetype": "text/x-python",
   "name": "python",
   "nbconvert_exporter": "python",
   "pygments_lexer": "ipython3",
   "version": "3.6.4"
  }
 },
 "nbformat": 4,
 "nbformat_minor": 1
}
