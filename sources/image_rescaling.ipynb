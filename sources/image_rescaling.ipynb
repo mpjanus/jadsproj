{
 "cells": [
  {
   "cell_type": "code",
   "execution_count": null,
   "metadata": {},
   "outputs": [],
   "source": [
    "import imgutils\n",
    "import numpy as np"
   ]
  },
  {
   "cell_type": "code",
   "execution_count": null,
   "metadata": {},
   "outputs": [],
   "source": [
    "sourcefolder = '../data/Asbestos_Aug30/SA_TileSet'\n",
    "targetfolder = '../data/Asbestos_Aug30/SA_TileSet_1K'\n",
    "imgutils.downsample_tiffs(sourcefolder, targetfolder, 2, print_diagnostics=True)"
   ]
  },
  {
   "cell_type": "code",
   "execution_count": null,
   "metadata": {},
   "outputs": [],
   "source": [
    "sourcefolder = '../data/Asbestos_Aug30/LM_TileSet'\n",
    "targetfolder = '../data/Asbestos_Aug30/LM_TileSet_1K'\n",
    "imgutils.downsample_tiffs(sourcefolder, targetfolder, 2, print_diagnostics=True)"
   ]
  },
  {
   "cell_type": "code",
   "execution_count": null,
   "metadata": {},
   "outputs": [],
   "source": [
    "sourcefolder = '../data/Asbestos_Aug30/SA_TileSet_Subset2'\n",
    "targetfolder = '../data/Asbestos_Aug30/SA_TileSet_Subset2_1K'\n",
    "imgutils.downsample_tiffs(sourcefolder, targetfolder, 2, print_diagnostics=True)"
   ]
  },
  {
   "cell_type": "code",
   "execution_count": null,
   "metadata": {},
   "outputs": [],
   "source": []
  },
  {
   "cell_type": "code",
   "execution_count": null,
   "metadata": {},
   "outputs": [],
   "source": [
    "sourcefolder = '../data/Crystals_Apr_12/Tileset7'\n",
    "targetfolder = '../data/Crystals_Apr_12/Tileset7_1k'\n",
    "imgutils.downsample_tiffs(sourcefolder, targetfolder, 4, print_diagnostics=True)"
   ]
  },
  {
   "cell_type": "code",
   "execution_count": null,
   "metadata": {},
   "outputs": [],
   "source": [
    "sourcefolder = '../data/Crystals_Apr_12/Tileset6'\n",
    "targetfolder1 = '../data/Crystals_Apr_12/Tileset6_2k'\n",
    "targetfolder2 = '../data/Crystals_Apr_12/Tileset6_1k'\n",
    "imgutils.downsample_tiffs(sourcefolder, targetfolder1, 2, print_diagnostics=True)\n",
    "imgutils.downsample_tiffs(sourcefolder, targetfolder2, 4, print_diagnostics=True)"
   ]
  },
  {
   "cell_type": "code",
   "execution_count": null,
   "metadata": {},
   "outputs": [],
   "source": [
    "sourcefolder = '../data/Crystals_Apr_12/Tileset6_Subset_NoBlack'\n",
    "targetfolder = '../data/Crystals_Apr_12/Tileset6_Subset_NoBlack_2k'\n",
    "imgutils.downsample_tiffs(sourcefolder, targetfolder, 2, print_diagnostics=True)"
   ]
  },
  {
   "cell_type": "code",
   "execution_count": null,
   "metadata": {},
   "outputs": [],
   "source": [
    "sourcefolder = '../data/Crystals_Apr_12/Tileset6_Subset_NoBlack'\n",
    "targetfolder = '../data/Crystals_Apr_12/Tileset6_Subset_NoBlack_1k'\n",
    "imgutils.downsample_tiffs(sourcefolder, targetfolder, 4, print_diagnostics=True)"
   ]
  },
  {
   "cell_type": "code",
   "execution_count": null,
   "metadata": {},
   "outputs": [],
   "source": [
    "sourcefolder = '../data/Crystals_Apr_12/Tileset6_Subset_Blacks'\n",
    "targetfolder1 = '../data/Crystals_Apr_12/Tileset6_Subset_Blacks_1k'\n",
    "targetfolder2 = '../data/Crystals_Apr_12/Tileset6_Subset_Blacks_2k'\n",
    "imgutils.downsample_tiffs(sourcefolder, targetfolder1, 4, print_diagnostics=True)\n",
    "imgutils.downsample_tiffs(sourcefolder, targetfolder2, 2, print_diagnostics=True)"
   ]
  },
  {
   "cell_type": "code",
   "execution_count": null,
   "metadata": {},
   "outputs": [],
   "source": [
    "sourcefolder = '../data/Polymers_27Sep2018/LowMag'\n",
    "targetfolder = '../data/Polymers_27Sep2018/LowMag_512'\n",
    "imgutils.downsample_tiffs(sourcefolder, targetfolder, 4, print_diagnostics=True)"
   ]
  },
  {
   "cell_type": "markdown",
   "metadata": {},
   "source": [
    "# make cut-out"
   ]
  },
  {
   "cell_type": "code",
   "execution_count": null,
   "metadata": {},
   "outputs": [],
   "source": [
    "sourcefolder = '../data/Polymers_27Sep2018/LowMag'\n",
    "targetfolder = '../data/Polymers_27Sep2018/LowMag_NoBlack'\n",
    "\n",
    "imgfiles = imgutils.getimgfiles(sourcefolder,'.tif')\n",
    "print(imgfiles)"
   ]
  },
  {
   "cell_type": "code",
   "execution_count": null,
   "metadata": {},
   "outputs": [],
   "source": [
    "sourcefile = imgfiles[13]\n",
    "print(sourcefile)\n",
    "fulltiff = imgutils.loadtiff(sourcefile)\n",
    "imgutils.showimg(fulltiff)"
   ]
  },
  {
   "cell_type": "code",
   "execution_count": null,
   "metadata": {},
   "outputs": [],
   "source": [
    "print(fulltiff.shape)"
   ]
  },
  {
   "cell_type": "code",
   "execution_count": null,
   "metadata": {},
   "outputs": [],
   "source": [
    "subimg = fulltiff[0:500,500:1000]\n",
    "#subimg = fulltiff[1500:2000,0:500]\n",
    "#subimg = fulltiff[1000:,1000:]"
   ]
  },
  {
   "cell_type": "code",
   "execution_count": null,
   "metadata": {},
   "outputs": [],
   "source": [
    "subimg.max()"
   ]
  },
  {
   "cell_type": "code",
   "execution_count": null,
   "metadata": {
    "scrolled": true
   },
   "outputs": [],
   "source": [
    "imgutils.showimg(subimg, fig_size=(10,10))"
   ]
  },
  {
   "cell_type": "code",
   "execution_count": null,
   "metadata": {},
   "outputs": [],
   "source": [
    "targetfile = targetfolder + '/img12.tif'\n",
    "print(targetfile)"
   ]
  },
  {
   "cell_type": "code",
   "execution_count": null,
   "metadata": {
    "scrolled": false
   },
   "outputs": [],
   "source": [
    "imgutils.savetiff(targetfile,subimg)"
   ]
  },
  {
   "cell_type": "code",
   "execution_count": null,
   "metadata": {},
   "outputs": [],
   "source": []
  }
 ],
 "metadata": {
  "kernelspec": {
   "display_name": "Python 3",
   "language": "python",
   "name": "python3"
  },
  "language_info": {
   "codemirror_mode": {
    "name": "ipython",
    "version": 3
   },
   "file_extension": ".py",
   "mimetype": "text/x-python",
   "name": "python",
   "nbconvert_exporter": "python",
   "pygments_lexer": "ipython3",
   "version": "3.6.5"
  }
 },
 "nbformat": 4,
 "nbformat_minor": 2
}
