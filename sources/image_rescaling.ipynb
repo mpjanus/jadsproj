{
 "cells": [
  {
   "cell_type": "code",
   "execution_count": 1,
   "metadata": {},
   "outputs": [],
   "source": [
    "import imgutils"
   ]
  },
  {
   "cell_type": "code",
   "execution_count": 9,
   "metadata": {},
   "outputs": [],
   "source": [
    "sourcefolder = '../data/Asbestos_Aug30/SA_TileSet_Subset2'\n",
    "targetfolder = '../data/Asbestos_Aug30/SA_TileSet_Subset2_1K'\n"
   ]
  },
  {
   "cell_type": "code",
   "execution_count": 10,
   "metadata": {},
   "outputs": [
    {
     "name": "stdout",
     "output_type": "stream",
     "text": [
      "Original (Max, Min, Mean): 4674 1161 3167.297559\n",
      "Downsampled (Max, Min, Mean): 4493 1254 3167.297606\n",
      "Original (Max, Min, Mean): 4658 700 3168.25547\n",
      "Downsampled (Max, Min, Mean): 4525 746 3168.25575\n",
      "Original (Max, Min, Mean): 4666 916 3161.7392265\n",
      "Downsampled (Max, Min, Mean): 4421 963 3161.738856\n",
      "Original (Max, Min, Mean): 4241 931 3163.55940625\n",
      "Downsampled (Max, Min, Mean): 4160 959 3163.559378\n"
     ]
    }
   ],
   "source": [
    "imgutils.downsample_tiffs(sourcefolder, targetfolder, 2, print_diagnostics=True)"
   ]
  },
  {
   "cell_type": "code",
   "execution_count": 11,
   "metadata": {},
   "outputs": [
    {
     "name": "stdout",
     "output_type": "stream",
     "text": [
      "Original (Max, Min, Mean): 15241 135 8744.4398549375\n",
      "Downsampled (Max, Min, Mean): 14218 2627 8744.448653\n",
      "Original (Max, Min, Mean): 22423 143 8792.5679535625\n",
      "Downsampled (Max, Min, Mean): 21405 2366 8792.566354\n",
      "Original (Max, Min, Mean): 15159 145 8860.5607545625\n",
      "Downsampled (Max, Min, Mean): 14626 3234 8860.709384\n",
      "Original (Max, Min, Mean): 13473 137 8813.487253125\n",
      "Downsampled (Max, Min, Mean): 13203 2982 8813.47003\n",
      "Original (Max, Min, Mean): 21419 143 8840.3001800625\n",
      "Downsampled (Max, Min, Mean): 20610 2530 8840.381373\n",
      "Original (Max, Min, Mean): 12697 145 8862.578443375\n",
      "Downsampled (Max, Min, Mean): 10024 3271 8862.537337\n"
     ]
    }
   ],
   "source": [
    "sourcefolder = '../data/Crystals_Apr_12/Tileset7'\n",
    "targetfolder = '../data/Crystals_Apr_12/Tileset7_1k'\n",
    "imgutils.downsample_tiffs(sourcefolder, targetfolder, 4, print_diagnostics=True)"
   ]
  },
  {
   "cell_type": "code",
   "execution_count": 2,
   "metadata": {},
   "outputs": [
    {
     "name": "stdout",
     "output_type": "stream",
     "text": [
      "Original (Max, Min, Mean): 22274 94 6787.8570155625\n",
      "Downsampled (Max, Min, Mean): 15166 325 6787.857793\n",
      "Original (Max, Min, Mean): 20197 180 11572.243553125\n",
      "Downsampled (Max, Min, Mean): 16780 4187 11572.243853\n",
      "Original (Max, Min, Mean): 21203 164 11533.6754025\n",
      "Downsampled (Max, Min, Mean): 18022 2669 11533.67568925\n",
      "Original (Max, Min, Mean): 27708 153 11543.85346975\n",
      "Downsampled (Max, Min, Mean): 18204 4044 11543.854318\n",
      "Original (Max, Min, Mean): 19510 24 8022.6188055625\n",
      "Downsampled (Max, Min, Mean): 17759 236 8022.619824\n",
      "Original (Max, Min, Mean): 22730 13 5138.4525111875\n",
      "Downsampled (Max, Min, Mean): 14116 277 5138.4525155\n",
      "Original (Max, Min, Mean): 21106 176 11556.2079685\n",
      "Downsampled (Max, Min, Mean): 16530 4043 11556.208499\n",
      "Original (Max, Min, Mean): 20438 160 11518.4602126875\n",
      "Downsampled (Max, Min, Mean): 17738 2783 11518.46113625\n",
      "Original (Max, Min, Mean): 19704 162 11525.1969528125\n",
      "Downsampled (Max, Min, Mean): 14727 4288 11525.1974755\n",
      "Original (Max, Min, Mean): 18745 23 9664.9515605\n",
      "Downsampled (Max, Min, Mean): 16632 347 9664.95315425\n",
      "Original (Max, Min, Mean): 22085 181 3326.8912230625\n",
      "Downsampled (Max, Min, Mean): 13876 330 3326.89102725\n",
      "Original (Max, Min, Mean): 20059 175 11596.9781955\n",
      "Downsampled (Max, Min, Mean): 16796 1397 11596.97882675\n",
      "Original (Max, Min, Mean): 21571 157 11551.07672275\n",
      "Downsampled (Max, Min, Mean): 17251 2819 11551.077018\n",
      "Original (Max, Min, Mean): 22260 160 11566.309349375\n",
      "Downsampled (Max, Min, Mean): 16389 4249 11566.3099095\n",
      "Original (Max, Min, Mean): 20946 33 11223.9034316875\n",
      "Downsampled (Max, Min, Mean): 16928 644 11223.9048665\n",
      "Original (Max, Min, Mean): 12957 124 1760.9264483125\n",
      "Downsampled (Max, Min, Mean): 12295 372 1760.9260315\n",
      "Original (Max, Min, Mean): 19846 138 9600.0177100625\n",
      "Downsampled (Max, Min, Mean): 17637 388 9600.019125\n",
      "Original (Max, Min, Mean): 21256 122 9426.683741375\n",
      "Downsampled (Max, Min, Mean): 18094 379 9426.6839785\n",
      "Original (Max, Min, Mean): 22506 101 8043.6621753125\n",
      "Downsampled (Max, Min, Mean): 19445 463 8043.662531\n",
      "Original (Max, Min, Mean): 21465 81 6737.776532125\n",
      "Downsampled (Max, Min, Mean): 17382 470 6737.77678775\n",
      "Original (Max, Min, Mean): 10362 74 762.1676959375\n",
      "Downsampled (Max, Min, Mean): 10104 381 762.16790725\n",
      "Original (Max, Min, Mean): 14549 28 1614.6537414375\n",
      "Downsampled (Max, Min, Mean): 14356 371 1614.65360875\n",
      "Original (Max, Min, Mean): 14766 16 889.7329389375\n",
      "Downsampled (Max, Min, Mean): 14359 326 889.732947\n",
      "Original (Max, Min, Mean): 1413 14 692.744575625\n",
      "Downsampled (Max, Min, Mean): 1254 342 692.74488875\n",
      "Original (Max, Min, Mean): 1416 14 709.3224146875\n",
      "Downsampled (Max, Min, Mean): 1342 265 709.322375\n",
      "Original (Max, Min, Mean): 1507 81 731.0237176875\n",
      "Downsampled (Max, Min, Mean): 1125 407 731.0240645\n",
      "Original (Max, Min, Mean): 16667 61 2179.1773655625\n",
      "Downsampled (Max, Min, Mean): 13016 391 2179.17811425\n",
      "Original (Max, Min, Mean): 19885 70 4727.529249875\n",
      "Downsampled (Max, Min, Mean): 17930 358 4727.5296875\n",
      "Original (Max, Min, Mean): 21389 78 6109.437430375\n",
      "Downsampled (Max, Min, Mean): 18179 356 6109.43861475\n",
      "Original (Max, Min, Mean): 19474 38 7438.931008\n",
      "Downsampled (Max, Min, Mean): 17177 363 7438.931948\n",
      "Original (Max, Min, Mean): 22274 94 6787.8570155625\n",
      "Downsampled (Max, Min, Mean): 14694 350 6787.933284\n",
      "Original (Max, Min, Mean): 20197 180 11572.243553125\n",
      "Downsampled (Max, Min, Mean): 16132 4510 11572.231157\n",
      "Original (Max, Min, Mean): 21203 164 11533.6754025\n",
      "Downsampled (Max, Min, Mean): 16676 4534 11533.677066\n",
      "Original (Max, Min, Mean): 27708 153 11543.85346975\n",
      "Downsampled (Max, Min, Mean): 17165 3197 11543.864657\n",
      "Original (Max, Min, Mean): 19510 24 8022.6188055625\n",
      "Downsampled (Max, Min, Mean): 17421 321 8022.7033\n",
      "Original (Max, Min, Mean): 22730 13 5138.4525111875\n",
      "Downsampled (Max, Min, Mean): 14248 339 5138.568284\n",
      "Original (Max, Min, Mean): 21106 176 11556.2079685\n",
      "Downsampled (Max, Min, Mean): 16000 4015 11555.997131\n",
      "Original (Max, Min, Mean): 20438 160 11518.4602126875\n",
      "Downsampled (Max, Min, Mean): 16390 5080 11518.369194\n",
      "Original (Max, Min, Mean): 19704 162 11525.1969528125\n",
      "Downsampled (Max, Min, Mean): 14505 3323 11525.323679\n",
      "Original (Max, Min, Mean): 18745 23 9664.9515605\n",
      "Downsampled (Max, Min, Mean): 16114 388 9664.941292\n",
      "Original (Max, Min, Mean): 22085 181 3326.8912230625\n",
      "Downsampled (Max, Min, Mean): 14072 364 3326.940995\n",
      "Original (Max, Min, Mean): 20059 175 11596.9781955\n",
      "Downsampled (Max, Min, Mean): 16206 1431 11597.153341\n",
      "Original (Max, Min, Mean): 21571 157 11551.07672275\n",
      "Downsampled (Max, Min, Mean): 16515 4707 11551.019789\n",
      "Original (Max, Min, Mean): 22260 160 11566.309349375\n",
      "Downsampled (Max, Min, Mean): 16081 3458 11566.230536\n",
      "Original (Max, Min, Mean): 20946 33 11223.9034316875\n",
      "Downsampled (Max, Min, Mean): 16375 696 11223.812135\n",
      "Original (Max, Min, Mean): 12957 124 1760.9264483125\n",
      "Downsampled (Max, Min, Mean): 12074 401 1760.963671\n",
      "Original (Max, Min, Mean): 19846 138 9600.0177100625\n",
      "Downsampled (Max, Min, Mean): 17785 377 9599.891711\n",
      "Original (Max, Min, Mean): 21256 122 9426.683741375\n",
      "Downsampled (Max, Min, Mean): 17740 497 9426.837133\n",
      "Original (Max, Min, Mean): 22506 101 8043.6621753125\n",
      "Downsampled (Max, Min, Mean): 18044 417 8043.720845\n",
      "Original (Max, Min, Mean): 21465 81 6737.776532125\n",
      "Downsampled (Max, Min, Mean): 20312 332 6737.734115\n",
      "Original (Max, Min, Mean): 10362 74 762.1676959375\n",
      "Downsampled (Max, Min, Mean): 9924 419 762.200145\n",
      "Original (Max, Min, Mean): 14549 28 1614.6537414375\n",
      "Downsampled (Max, Min, Mean): 13865 371 1614.596195\n",
      "Original (Max, Min, Mean): 14766 16 889.7329389375\n",
      "Downsampled (Max, Min, Mean): 14081 426 889.747644\n",
      "Original (Max, Min, Mean): 1413 14 692.744575625\n",
      "Downsampled (Max, Min, Mean): 1248 366 692.772216\n",
      "Original (Max, Min, Mean): 1416 14 709.3224146875\n",
      "Downsampled (Max, Min, Mean): 1357 290 709.309197\n",
      "Original (Max, Min, Mean): 1507 81 731.0237176875\n",
      "Downsampled (Max, Min, Mean): 1089 421 731.066809\n",
      "Original (Max, Min, Mean): 16667 61 2179.1773655625\n",
      "Downsampled (Max, Min, Mean): 13425 384 2179.160386\n",
      "Original (Max, Min, Mean): 19885 70 4727.529249875\n",
      "Downsampled (Max, Min, Mean): 17253 378 4727.428096\n",
      "Original (Max, Min, Mean): 21389 78 6109.437430375\n",
      "Downsampled (Max, Min, Mean): 17551 348 6109.519414\n",
      "Original (Max, Min, Mean): 19474 38 7438.931008\n",
      "Downsampled (Max, Min, Mean): 17066 359 7438.9776\n"
     ]
    }
   ],
   "source": [
    "sourcefolder = '../data/Crystals_Apr_12/Tileset6'\n",
    "targetfolder1 = '../data/Crystals_Apr_12/Tileset6_2k'\n",
    "targetfolder2 = '../data/Crystals_Apr_12/Tileset6_1k'\n",
    "imgutils.downsample_tiffs(sourcefolder, targetfolder1, 2, print_diagnostics=True)\n",
    "imgutils.downsample_tiffs(sourcefolder, targetfolder2, 4, print_diagnostics=True)"
   ]
  },
  {
   "cell_type": "code",
   "execution_count": 12,
   "metadata": {},
   "outputs": [
    {
     "name": "stdout",
     "output_type": "stream",
     "text": [
      "Original (Max, Min, Mean): 21106 176 11556.2079685\n",
      "Downsampled (Max, Min, Mean): 16530 4043 11556.208499\n",
      "Original (Max, Min, Mean): 20438 160 11518.4602126875\n",
      "Downsampled (Max, Min, Mean): 17738 2783 11518.46113625\n",
      "Original (Max, Min, Mean): 20059 175 11596.9781955\n",
      "Downsampled (Max, Min, Mean): 16796 1397 11596.97882675\n",
      "Original (Max, Min, Mean): 21571 157 11551.07672275\n",
      "Downsampled (Max, Min, Mean): 17251 2819 11551.077018\n"
     ]
    }
   ],
   "source": [
    "sourcefolder = '../data/Crystals_Apr_12/Tileset6_Subset_NoBlack'\n",
    "targetfolder = '../data/Crystals_Apr_12/Tileset6_Subset_NoBlack_2k'\n",
    "imgutils.downsample_tiffs(sourcefolder, targetfolder, 2, print_diagnostics=True)"
   ]
  },
  {
   "cell_type": "code",
   "execution_count": 13,
   "metadata": {},
   "outputs": [
    {
     "name": "stdout",
     "output_type": "stream",
     "text": [
      "Original (Max, Min, Mean): 21106 176 11556.2079685\n",
      "Downsampled (Max, Min, Mean): 16000 4015 11555.997131\n",
      "Original (Max, Min, Mean): 20438 160 11518.4602126875\n",
      "Downsampled (Max, Min, Mean): 16390 5080 11518.369194\n",
      "Original (Max, Min, Mean): 20059 175 11596.9781955\n",
      "Downsampled (Max, Min, Mean): 16206 1431 11597.153341\n",
      "Original (Max, Min, Mean): 21571 157 11551.07672275\n",
      "Downsampled (Max, Min, Mean): 16515 4707 11551.019789\n"
     ]
    }
   ],
   "source": [
    "sourcefolder = '../data/Crystals_Apr_12/Tileset6_Subset_NoBlack'\n",
    "targetfolder = '../data/Crystals_Apr_12/Tileset6_Subset_NoBlack_1k'\n",
    "imgutils.downsample_tiffs(sourcefolder, targetfolder, 4, print_diagnostics=True)"
   ]
  },
  {
   "cell_type": "code",
   "execution_count": 14,
   "metadata": {},
   "outputs": [
    {
     "name": "stdout",
     "output_type": "stream",
     "text": [
      "Original (Max, Min, Mean): 12957 124 1760.9264483125\n",
      "Downsampled (Max, Min, Mean): 12074 401 1760.963671\n",
      "Original (Max, Min, Mean): 22260 160 11566.309349375\n",
      "Downsampled (Max, Min, Mean): 16081 3458 11566.230536\n",
      "Original (Max, Min, Mean): 20059 175 11596.9781955\n",
      "Downsampled (Max, Min, Mean): 16206 1431 11597.153341\n",
      "Original (Max, Min, Mean): 21571 157 11551.07672275\n",
      "Downsampled (Max, Min, Mean): 16515 4707 11551.019789\n",
      "Original (Max, Min, Mean): 10362 74 762.1676959375\n",
      "Downsampled (Max, Min, Mean): 9924 419 762.200145\n",
      "Original (Max, Min, Mean): 19846 138 9600.0177100625\n",
      "Downsampled (Max, Min, Mean): 17785 377 9599.891711\n",
      "Original (Max, Min, Mean): 21256 122 9426.683741375\n",
      "Downsampled (Max, Min, Mean): 17740 497 9426.837133\n",
      "Original (Max, Min, Mean): 22506 101 8043.6621753125\n",
      "Downsampled (Max, Min, Mean): 18044 417 8043.720845\n",
      "Original (Max, Min, Mean): 12957 124 1760.9264483125\n",
      "Downsampled (Max, Min, Mean): 12295 372 1760.9260315\n",
      "Original (Max, Min, Mean): 22260 160 11566.309349375\n",
      "Downsampled (Max, Min, Mean): 16389 4249 11566.3099095\n",
      "Original (Max, Min, Mean): 20059 175 11596.9781955\n",
      "Downsampled (Max, Min, Mean): 16796 1397 11596.97882675\n",
      "Original (Max, Min, Mean): 21571 157 11551.07672275\n",
      "Downsampled (Max, Min, Mean): 17251 2819 11551.077018\n",
      "Original (Max, Min, Mean): 10362 74 762.1676959375\n",
      "Downsampled (Max, Min, Mean): 10104 381 762.16790725\n",
      "Original (Max, Min, Mean): 19846 138 9600.0177100625\n",
      "Downsampled (Max, Min, Mean): 17637 388 9600.019125\n",
      "Original (Max, Min, Mean): 21256 122 9426.683741375\n",
      "Downsampled (Max, Min, Mean): 18094 379 9426.6839785\n",
      "Original (Max, Min, Mean): 22506 101 8043.6621753125\n",
      "Downsampled (Max, Min, Mean): 19445 463 8043.662531\n"
     ]
    }
   ],
   "source": [
    "sourcefolder = '../data/Crystals_Apr_12/Tileset6_Subset_Blacks'\n",
    "targetfolder1 = '../data/Crystals_Apr_12/Tileset6_Subset_Blacks_1k'\n",
    "targetfolder2 = '../data/Crystals_Apr_12/Tileset6_Subset_Blacks_2k'\n",
    "imgutils.downsample_tiffs(sourcefolder, targetfolder1, 4, print_diagnostics=True)\n",
    "imgutils.downsample_tiffs(sourcefolder, targetfolder2, 2, print_diagnostics=True)"
   ]
  },
  {
   "cell_type": "code",
   "execution_count": null,
   "metadata": {},
   "outputs": [],
   "source": []
  }
 ],
 "metadata": {
  "kernelspec": {
   "display_name": "Python 3",
   "language": "python",
   "name": "python3"
  },
  "language_info": {
   "codemirror_mode": {
    "name": "ipython",
    "version": 3
   },
   "file_extension": ".py",
   "mimetype": "text/x-python",
   "name": "python",
   "nbconvert_exporter": "python",
   "pygments_lexer": "ipython3",
   "version": "3.6.5"
  }
 },
 "nbformat": 4,
 "nbformat_minor": 2
}
