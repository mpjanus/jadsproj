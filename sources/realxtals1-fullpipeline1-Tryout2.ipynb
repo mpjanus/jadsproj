{
 "cells": [
  {
   "cell_type": "markdown",
   "metadata": {},
   "source": [
    "# Full Pipeline (on Tileset7) - Aug 2017\n",
    "Created:  21 Aug 2018 <br>\n",
    "Last update: 29 Aug 2018\n",
    "\n",
    "\n",
    "### Goal: Combine the relevant steps from data import to unsupervised learning \n",
    "\n",
    "Many functions have gradually been developed in the prior notebooks (and added to 'imgutils'). In this notebook, the steps will be combined without all the intermediate analysis.\n"
   ]
  },
  {
   "cell_type": "markdown",
   "metadata": {},
   "source": [
    "<hr>\n",
    "## 1. Imports"
   ]
  },
  {
   "cell_type": "code",
   "execution_count": null,
   "metadata": {},
   "outputs": [],
   "source": [
    "# this will remove warnings messages\n",
    "import warnings\n",
    "warnings.filterwarnings('ignore')\n",
    "\n",
    "import numpy as np\n",
    "import pandas as pd\n",
    "\n",
    "import matplotlib.pyplot as plt\n",
    "\n",
    "%matplotlib inline\n",
    "\n",
    "# import\n",
    "from sklearn.cluster import KMeans\n",
    "from sklearn.cluster import AgglomerativeClustering\n",
    "from sklearn.preprocessing import LabelEncoder\n",
    "from sklearn.preprocessing import StandardScaler\n",
    "from sklearn.decomposition import PCA, TruncatedSVD\n",
    "from sklearn.pipeline import Pipeline\n",
    "from sklearn.metrics import silhouette_score\n",
    "\n",
    "import imgutils"
   ]
  },
  {
   "cell_type": "code",
   "execution_count": null,
   "metadata": {},
   "outputs": [],
   "source": [
    "# Re-run this cell if you altered imgutils\n",
    "import importlib\n",
    "importlib.reload(imgutils)"
   ]
  },
  {
   "cell_type": "code",
   "execution_count": null,
   "metadata": {},
   "outputs": [],
   "source": []
  },
  {
   "cell_type": "markdown",
   "metadata": {},
   "source": [
    "<hr>\n",
    "## 2. Data Definitions & Feature Specification"
   ]
  },
  {
   "cell_type": "code",
   "execution_count": null,
   "metadata": {},
   "outputs": [],
   "source": [
    "# Data:\n",
    "datafolder = '../data/Crystals_Apr_12/Tileset6_subset_1K'\n",
    "n_tiles_x = 3  # mostly for visualization\n",
    "n_tiles_y = 3\n",
    "\n",
    "\n",
    "# Features to use:\n",
    "#feature_funcs = [imgutils.img_mean, imgutils.img_std, imgutils.img_median, \n",
    "#                 imgutils.img_mode,\n",
    "#                 imgutils.img_kurtosis, imgutils.img_skewness]\n",
    "feature_funcs = [imgutils.img_std, imgutils.img_relstd, imgutils.img_mean, \n",
    "                 imgutils.img_skewness,  imgutils.img_kurtosis, imgutils.img_mode]\n",
    "feature_names = imgutils.stat_names(feature_funcs)\n",
    "\n",
    "# Size of the grid, specified as number of slices per image in x and y direction:\n",
    "default_grid_x = 4\n",
    "default_grid_y = default_grid_x"
   ]
  },
  {
   "cell_type": "code",
   "execution_count": null,
   "metadata": {},
   "outputs": [],
   "source": []
  },
  {
   "cell_type": "markdown",
   "metadata": {},
   "source": [
    "<hr>\n",
    "## 3. Import Data & Extract Features"
   ]
  },
  {
   "cell_type": "markdown",
   "metadata": {},
   "source": [
    "### Hyper parameters"
   ]
  },
  {
   "cell_type": "code",
   "execution_count": null,
   "metadata": {},
   "outputs": [],
   "source": [
    "# feature extraction\n",
    "patch_size=(20,20)\n",
    "\n",
    "# data hyper-parameters\n",
    "default_n_clusters = 3\n",
    "\n",
    "# algorithm hyper-parameters:\n",
    "kmeans_n_init = 10\n",
    "\n"
   ]
  },
  {
   "cell_type": "code",
   "execution_count": null,
   "metadata": {},
   "outputs": [],
   "source": [
    "imgs = imgutils.getimgfiles(datafolder,'.tif')"
   ]
  },
  {
   "cell_type": "code",
   "execution_count": null,
   "metadata": {},
   "outputs": [],
   "source": [
    "img = imgutils.loadtiff(imgs[0])\n",
    "print(img.shape)\n",
    "img2 = imgutils.downsample_img(img, 2)\n",
    "print(img2.shape)"
   ]
  },
  {
   "cell_type": "code",
   "execution_count": null,
   "metadata": {},
   "outputs": [],
   "source": [
    "import sklearn.feature_extraction.image as skimgfeat\n",
    "import math"
   ]
  },
  {
   "cell_type": "code",
   "execution_count": null,
   "metadata": {},
   "outputs": [],
   "source": []
  },
  {
   "cell_type": "code",
   "execution_count": null,
   "metadata": {},
   "outputs": [],
   "source": [
    "patches = skimgfeat.extract_patches_2d(img2, patch_size)"
   ]
  },
  {
   "cell_type": "code",
   "execution_count": null,
   "metadata": {},
   "outputs": [],
   "source": [
    "stds = np.empty(patches.shape[0])"
   ]
  },
  {
   "cell_type": "code",
   "execution_count": null,
   "metadata": {},
   "outputs": [],
   "source": [
    "for i in range(patches.shape[0]):\n",
    "    stds[i] = np.std(patches[i])"
   ]
  },
  {
   "cell_type": "code",
   "execution_count": null,
   "metadata": {},
   "outputs": [],
   "source": [
    "dim = (int)(math.sqrt(stds.shape[0]))\n",
    "img3 = np.reshape(stds, (dim, dim))"
   ]
  },
  {
   "cell_type": "code",
   "execution_count": null,
   "metadata": {},
   "outputs": [],
   "source": [
    "imgutils.showimg(img3, fig_size=(10,10))"
   ]
  },
  {
   "cell_type": "code",
   "execution_count": null,
   "metadata": {},
   "outputs": [],
   "source": [
    "imgutils.showimg(img2, fig_size=(10,10))"
   ]
  },
  {
   "cell_type": "code",
   "execution_count": null,
   "metadata": {},
   "outputs": [],
   "source": [
    "patches = skimgfeat.extract_patches_2d(img2, patch_size)\n",
    "patchstats = np.empty((patches.shape[0],5))\n",
    "print(patch_size)"
   ]
  },
  {
   "cell_type": "code",
   "execution_count": null,
   "metadata": {},
   "outputs": [],
   "source": [
    "print(\"Extracting features...\")\n",
    "for i in range(patches.shape[0]):\n",
    "    patch = patches[i]\n",
    "    patchstats[i,0] = np.mean(patch)\n",
    "    patchstats[i,1] = np.median(patch)\n",
    "    patchstats[i,2] = np.std(patch)\n",
    "    patchstats[i,3] = np.max(patch)-np.min(patch) \n",
    "    #patchstats[i,4] = np.percentile(patch,75)-np.percentile(patch,25) \n",
    "    "
   ]
  },
  {
   "cell_type": "code",
   "execution_count": null,
   "metadata": {},
   "outputs": [],
   "source": [
    "n_clusters = 4\n",
    "print(\"CLustering...\")\n",
    "kmeans = KMeans(algorithm='auto', n_clusters=n_clusters, n_init=10, init='k-means++')\n",
    "standardizer = StandardScaler()\n",
    "pca = PCA()\n",
    "pipeline = Pipeline([('scaler', standardizer), ('pca', pca), ('kmeans',kmeans)])\n",
    "#pipeline = Pipeline([('scaler', standardizer),('kmeans',kmeans)])\n",
    "\n",
    "y = pipeline.fit_predict(patchstats)"
   ]
  },
  {
   "cell_type": "code",
   "execution_count": null,
   "metadata": {},
   "outputs": [],
   "source": [
    "dim = (int)(math.sqrt(y.shape[0]))\n",
    "img_clust = np.reshape(y, (dim, dim))"
   ]
  },
  {
   "cell_type": "code",
   "execution_count": null,
   "metadata": {},
   "outputs": [],
   "source": [
    "img_mean = np.reshape(patchstats[:,0], (dim, dim))\n",
    "img_median = np.reshape(patchstats[:,1], (dim, dim))\n",
    "img_std = np.reshape(patchstats[:,2], (dim, dim))\n",
    "img_range = np.reshape(patchstats[:,3], (dim, dim))"
   ]
  },
  {
   "cell_type": "code",
   "execution_count": null,
   "metadata": {},
   "outputs": [],
   "source": [
    "def plot_with_overlay(orgimg, overlayimg, fig_size=(6,6), show_org=True, show_overlay=True, \n",
    "                      overlay_alpha=0.25, cmapname='RdYlGn', title=None):\n",
    "    l = (orgimg.shape[0] - overlayimg.shape[0]) \n",
    "    t = (orgimg.shape[1] - overlayimg.shape[1])   \n",
    "    r = (orgimg.shape[0] - l)\n",
    "    b = (orgimg.shape[1] - t)\n",
    "           \n",
    "    cmin = np.min(overlayimg)\n",
    "    cmax = np.max(overlayimg)\n",
    "    _ = plt.figure(figsize=fig_size)\n",
    "    if show_org: \n",
    "        plt.imshow(orgimg, cmap='gray', origin='upper', extent=[0,orgimg.shape[0], 0, orgimg.shape[1]])\n",
    "    if (show_overlay):\n",
    "        plt.imshow(overlayimg, cmap=cmapname, alpha=overlay_alpha, vmin=0, vmax=cmax, origin='upper', extent=[l,r,t,b])\n",
    "    if (title): plt.title(title)\n",
    "    plt.show()"
   ]
  },
  {
   "cell_type": "code",
   "execution_count": null,
   "metadata": {},
   "outputs": [],
   "source": [
    "plot_with_overlay(img2, img_clust, show_overlay=False)\n",
    "plot_with_overlay(img2, img_clust, show_org=False)"
   ]
  },
  {
   "cell_type": "code",
   "execution_count": null,
   "metadata": {},
   "outputs": [],
   "source": [
    "plot_with_overlay(img2, img_mean, title='mean')\n",
    "plot_with_overlay(img2, img_median)"
   ]
  },
  {
   "cell_type": "code",
   "execution_count": null,
   "metadata": {},
   "outputs": [],
   "source": [
    "plot_with_overlay(img2, img_std)\n",
    "plot_with_overlay(img2, img_range)"
   ]
  },
  {
   "cell_type": "code",
   "execution_count": null,
   "metadata": {},
   "outputs": [],
   "source": [
    "plot_with_overlay(img2, img_clust, cmapname='Set1')"
   ]
  },
  {
   "cell_type": "code",
   "execution_count": null,
   "metadata": {},
   "outputs": [],
   "source": [
    "import sklearn.feature_extraction.image as skimgfeat\n",
    "import matplotlib.pyplot as plt\n",
    "import math\n",
    "import sys\n",
    "\n",
    "def run_new_pipeline(imgfilename, patch_size, n_clusters, downscale_factor=2, return_cluster_image = False,\n",
    "                     algorithm='kmeans', show_results=True, show_diagnostics=False, show_diagnostics_extra=False):\n",
    "    \"\"\" \"\"\"\n",
    "    \n",
    "    print(\"Importing image(s)s...\")\n",
    "    img_full = imgutils.loadtiff(imgfilename)\n",
    "    img = imgutils.downsample_img(img_full, downscale_factor)    \n",
    "    patches = skimgfeat.extract_patches_2d(img, patch_size)\n",
    "\n",
    "    sys.stdout.write(\"Extracting features...\")\n",
    "    patchstats = np.empty((patches.shape[0],4))\n",
    "    n_progress_update = (int)(patches.shape[0] / 1000) \n",
    "    for i in range(patches.shape[0]):\n",
    "        patch = patches[i]\n",
    "        patchstats[i,0] = np.mean(patch)\n",
    "        patchstats[i,1] = np.median(patch)\n",
    "        patchstats[i,2] = np.std(patch)\n",
    "        patchstats[i,3] = np.max(patch)-np.min(patch) \n",
    "        if (i % n_progress_update == 0):\n",
    "            progress = (int)(i*100.0 / patches.shape[0])\n",
    "            sys.stdout.write(\"\\rExtracting features... {:d} %\".format(progress))\n",
    "            sys.stdout.flush()\n",
    "    sys.stdout.write(\"\\rExtracting features... 100 %\\n\")\n",
    "    sys.stdout.flush()\n",
    "        \n",
    "    print(\"Clustering into {} clusters...\".format(n_clusters))\n",
    "    kmeans = KMeans(algorithm='auto', n_clusters=n_clusters, n_init=10, init='k-means++')\n",
    "    hierarch = AgglomerativeClustering(n_clusters=n_clusters, affinity='euclidean', linkage='complete')\n",
    "    if (algorithm=='kmeans'):\n",
    "        pipeline = Pipeline([('scaler', StandardScaler()), ('pca', PCA()), ('kmeans',kmeans)])\n",
    "    elif (algorithm=='hierarchical'):\n",
    "        pipeline = Pipeline([('scaler', StandardScaler()), ('pca', PCA()), ('hierarchical',hierarch)])\n",
    "    else:\n",
    "        raise ValueException(\"unsupported algorithm {}\".format(algorithm))\n",
    "        \n",
    "    #x = patchstats\n",
    "    x = patchstats[:,1:3]  # only mean, std and range\n",
    "    y = pipeline.fit_predict(x)\n",
    "\n",
    "    dim = (int)(math.sqrt(y.shape[0]))\n",
    "    img_clust = np.reshape(y, (dim, dim))  \n",
    "    \n",
    "    if show_results:\n",
    "        print(\"Visualizing results...\")          \n",
    "        plot_with_overlay(img, img_clust, title='cluster heatmap')\n",
    "        plt.show()\n",
    "        \n",
    "    if show_diagnostics: \n",
    "        print(\"Showing diagnostic images...\")      \n",
    "        plot_with_overlay(img, img_clust, show_overlay=False, title='original image')\n",
    "        plot_with_overlay(img, img_clust, show_org=False, title='local clusters')\n",
    "        plt.show()\n",
    "        \n",
    "    if show_diagnostics_extra:\n",
    "        print(\"Showing diagnostic feature images...\")   \n",
    "        img_mean = np.reshape(patchstats[:,0], (dim, dim))\n",
    "        img_median = np.reshape(patchstats[:,1], (dim, dim))\n",
    "        img_std = np.reshape(patchstats[:,2], (dim, dim))\n",
    "        img_range = np.reshape(patchstats[:,3], (dim, dim))\n",
    "        plot_with_overlay(img, img_mean, title='local mean')\n",
    "        plot_with_overlay(img, img_median, title='local median')\n",
    "        plot_with_overlay(img, img_std, title='local standard deviation')\n",
    "        plot_with_overlay(img, img_range, title='local range')\n",
    "        \n",
    "    if return_cluster_image:\n",
    "        return img, img_clust\n"
   ]
  },
  {
   "cell_type": "code",
   "execution_count": null,
   "metadata": {},
   "outputs": [],
   "source": [
    "def get_single_cluster_image(cluster_img, cluster_num):\n",
    "    return (cluster_img==cluster_num).astype(int) \n",
    "    \n",
    "def show_cluster_images(img, cluster_img, n_clusters, show_img=False, cmapname='RdYlGn'):\n",
    "    for i in range(n_clusters):\n",
    "        img_clust_i = get_single_cluster_image(cluster_img, i) \n",
    "        plot_with_overlay(img, img_clust_i, title='cluster {}'.format(i), show_org=show_img, cmapname=cmapname)\n",
    "        \n",
    "def show_single_cluster_image(img, cluster_img, cluster_to_show, show_img=True, opacity=0.5, cmapname='RdYlGn'):\n",
    "    img_clust_i = get_single_cluster_image(cluster_img, cluster_to_show) \n",
    "    plot_with_overlay(img, img_clust_i, title='cluster {}'.format(cluster_to_show), show_org=show_img, overlay_alpha=opacity, cmapname=cmapname)"
   ]
  },
  {
   "cell_type": "markdown",
   "metadata": {},
   "source": [
    "\n",
    "<hr/>\n",
    "# Try on multiple data sets - 2 Clusters"
   ]
  },
  {
   "cell_type": "code",
   "execution_count": null,
   "metadata": {},
   "outputs": [],
   "source": [
    "n_clust = 2\n",
    "patch_size = (10,10)"
   ]
  },
  {
   "cell_type": "markdown",
   "metadata": {},
   "source": [
    "### realxtals lm (hard)"
   ]
  },
  {
   "cell_type": "code",
   "execution_count": null,
   "metadata": {},
   "outputs": [],
   "source": [
    "imgfiles = imgutils.getimgfiles('../data/Crystals_Apr_12/Tileset6_subset_1K','.tif')\n",
    "imgfilename = imgfiles[0]\n",
    "img, h = run_new_pipeline(imgfilename, patch_size, n_clust, return_cluster_image=True, downscale_factor=4)"
   ]
  },
  {
   "cell_type": "code",
   "execution_count": null,
   "metadata": {},
   "outputs": [],
   "source": [
    "show_cluster_images(img, h, n_clust)"
   ]
  },
  {
   "cell_type": "markdown",
   "metadata": {},
   "source": [
    "### realxtals sa"
   ]
  },
  {
   "cell_type": "code",
   "execution_count": null,
   "metadata": {},
   "outputs": [],
   "source": [
    "imgfiles = imgutils.getimgfiles('../data/Crystals_Apr_12/Tileset7_1K','.tif')\n",
    "imgfilename = imgfiles[0]\n",
    "img, h = run_new_pipeline(imgfilename, patch_size, n_clust, return_cluster_image=True, downscale_factor=4)"
   ]
  },
  {
   "cell_type": "code",
   "execution_count": null,
   "metadata": {},
   "outputs": [],
   "source": [
    "show_cluster_images(img, h, n_clust)"
   ]
  },
  {
   "cell_type": "markdown",
   "metadata": {},
   "source": [
    "### Asbestos LM"
   ]
  },
  {
   "cell_type": "code",
   "execution_count": null,
   "metadata": {},
   "outputs": [],
   "source": [
    "imgfiles = imgutils.getimgfiles('../data/Asbestos_Aug30/LM_Tileset','.tif')\n",
    "imgfilename = imgfiles[0]\n",
    "img, h = run_new_pipeline(imgfilename, patch_size, n_clust, return_cluster_image=True,show_diagnostics=True, downscale_factor=4)"
   ]
  },
  {
   "cell_type": "code",
   "execution_count": null,
   "metadata": {},
   "outputs": [],
   "source": [
    "show_cluster_images(img, h, n_clust)"
   ]
  },
  {
   "cell_type": "markdown",
   "metadata": {},
   "source": [
    "### Asbestos SA"
   ]
  },
  {
   "cell_type": "code",
   "execution_count": null,
   "metadata": {},
   "outputs": [],
   "source": [
    "imgfiles = imgutils.getimgfiles('../data/Asbestos_Aug30/SA_Tileset','.tif')\n",
    "imgfilename = imgfiles[0]\n",
    "img, h = run_new_pipeline(imgfilename, patch_size, n_clust, return_cluster_image=True,show_diagnostics=True, downscale_factor=4)"
   ]
  },
  {
   "cell_type": "code",
   "execution_count": null,
   "metadata": {},
   "outputs": [],
   "source": [
    "show_cluster_images(img, h, n_clust)"
   ]
  },
  {
   "cell_type": "code",
   "execution_count": null,
   "metadata": {},
   "outputs": [],
   "source": [
    "imgfilename = imgfiles[9]\n",
    "img, h = run_new_pipeline(imgfilename, patch_size, n_clust, return_cluster_image=True,show_diagnostics=True, downscale_factor=4)"
   ]
  },
  {
   "cell_type": "code",
   "execution_count": null,
   "metadata": {},
   "outputs": [],
   "source": [
    "show_cluster_images(img, h, n_clust)"
   ]
  },
  {
   "cell_type": "markdown",
   "metadata": {},
   "source": [
    "<hr/>\n",
    "# Try on multiple data sets - 3 Clusters"
   ]
  },
  {
   "cell_type": "code",
   "execution_count": null,
   "metadata": {},
   "outputs": [],
   "source": [
    "n_clust = 3\n",
    "patch_size = (10,10)"
   ]
  },
  {
   "cell_type": "markdown",
   "metadata": {},
   "source": [
    "### realxtals lm (hard)"
   ]
  },
  {
   "cell_type": "code",
   "execution_count": null,
   "metadata": {},
   "outputs": [],
   "source": [
    "imgfiles = imgutils.getimgfiles('../data/Crystals_Apr_12/Tileset6_subset_1K','.tif')\n",
    "imgfilename = imgfiles[0]\n",
    "img, h = run_new_pipeline(imgfilename, patch_size, n_clust, return_cluster_image=True, downscale_factor=4)"
   ]
  },
  {
   "cell_type": "code",
   "execution_count": null,
   "metadata": {},
   "outputs": [],
   "source": [
    "show_cluster_images(img, h, n_clust)"
   ]
  },
  {
   "cell_type": "markdown",
   "metadata": {},
   "source": [
    "### realxtals sa"
   ]
  },
  {
   "cell_type": "code",
   "execution_count": null,
   "metadata": {},
   "outputs": [],
   "source": [
    "imgfiles = imgutils.getimgfiles('../data/Crystals_Apr_12/Tileset7_1K','.tif')\n",
    "imgfilename = imgfiles[0]\n",
    "img, h = run_new_pipeline(imgfilename, patch_size, n_clust, return_cluster_image=True, downscale_factor=4)"
   ]
  },
  {
   "cell_type": "code",
   "execution_count": null,
   "metadata": {},
   "outputs": [],
   "source": [
    "show_cluster_images(img, h, n_clust)"
   ]
  },
  {
   "cell_type": "markdown",
   "metadata": {},
   "source": [
    "### Asbestos LM"
   ]
  },
  {
   "cell_type": "code",
   "execution_count": null,
   "metadata": {},
   "outputs": [],
   "source": [
    "imgfiles = imgutils.getimgfiles('../data/Asbestos_Aug30/LM_Tileset','.tif')\n",
    "imgfilename = imgfiles[0]\n",
    "img, h = run_new_pipeline(imgfilename, patch_size, n_clust, return_cluster_image=True,show_diagnostics=True, downscale_factor=4)"
   ]
  },
  {
   "cell_type": "code",
   "execution_count": null,
   "metadata": {},
   "outputs": [],
   "source": [
    "show_cluster_images(img, h, n_clust)"
   ]
  },
  {
   "cell_type": "markdown",
   "metadata": {},
   "source": [
    "### Asbestos SA"
   ]
  },
  {
   "cell_type": "code",
   "execution_count": null,
   "metadata": {},
   "outputs": [],
   "source": [
    "imgfiles = imgutils.getimgfiles('../data/Asbestos_Aug30/SA_Tileset','.tif')\n",
    "imgfilename = imgfiles[0]\n",
    "img, h = run_new_pipeline(imgfilename, patch_size, n_clust, return_cluster_image=True,show_diagnostics=True, downscale_factor=4)"
   ]
  },
  {
   "cell_type": "code",
   "execution_count": null,
   "metadata": {},
   "outputs": [],
   "source": [
    "show_cluster_images(img, h, n_clust)"
   ]
  },
  {
   "cell_type": "code",
   "execution_count": null,
   "metadata": {},
   "outputs": [],
   "source": [
    "imgfilename = imgfiles[9]\n",
    "img, h = run_new_pipeline(imgfilename, patch_size, n_clust, return_cluster_image=True,show_diagnostics=True, downscale_factor=4)"
   ]
  },
  {
   "cell_type": "code",
   "execution_count": null,
   "metadata": {},
   "outputs": [],
   "source": [
    "show_cluster_images(img, h, n_clust)"
   ]
  },
  {
   "cell_type": "code",
   "execution_count": null,
   "metadata": {},
   "outputs": [],
   "source": [
    "show_single_cluster_image(img, h, 3, opacity=0.5, cmapname='magma')"
   ]
  },
  {
   "cell_type": "markdown",
   "metadata": {},
   "source": [
    "<hr/>\n",
    "# Try on multiple data sets - 4 Clusters"
   ]
  },
  {
   "cell_type": "code",
   "execution_count": null,
   "metadata": {},
   "outputs": [],
   "source": []
  },
  {
   "cell_type": "code",
   "execution_count": null,
   "metadata": {},
   "outputs": [],
   "source": [
    "n_clust = 4\n",
    "patch_size = (10,10)"
   ]
  },
  {
   "cell_type": "markdown",
   "metadata": {},
   "source": [
    "### realxtals lm (hard)"
   ]
  },
  {
   "cell_type": "code",
   "execution_count": null,
   "metadata": {},
   "outputs": [],
   "source": [
    "imgfiles = imgutils.getimgfiles('../data/Crystals_Apr_12/Tileset6_subset_1K','.tif')\n",
    "imgfilename = imgfiles[0]\n",
    "img, h = run_new_pipeline(imgfilename, patch_size, n_clust, return_cluster_image=True, downscale_factor=4)"
   ]
  },
  {
   "cell_type": "code",
   "execution_count": null,
   "metadata": {},
   "outputs": [],
   "source": [
    "show_cluster_images(img, h, n_clust)"
   ]
  },
  {
   "cell_type": "markdown",
   "metadata": {},
   "source": [
    "### realxtals sa"
   ]
  },
  {
   "cell_type": "code",
   "execution_count": null,
   "metadata": {},
   "outputs": [],
   "source": [
    "imgfiles = imgutils.getimgfiles('../data/Crystals_Apr_12/Tileset7_1K','.tif')\n",
    "imgfilename = imgfiles[0]\n",
    "img, h = run_new_pipeline(imgfilename, patch_size, n_clust, return_cluster_image=True, downscale_factor=4)"
   ]
  },
  {
   "cell_type": "code",
   "execution_count": null,
   "metadata": {},
   "outputs": [],
   "source": [
    "show_cluster_images(img, h, n_clust)"
   ]
  },
  {
   "cell_type": "markdown",
   "metadata": {},
   "source": [
    "### Asbestos LM"
   ]
  },
  {
   "cell_type": "code",
   "execution_count": null,
   "metadata": {},
   "outputs": [],
   "source": [
    "imgfiles = imgutils.getimgfiles('../data/Asbestos_Aug30/LM_Tileset','.tif')\n",
    "imgfilename = imgfiles[0]\n",
    "img, h = run_new_pipeline(imgfilename, patch_size, n_clust, return_cluster_image=True,show_diagnostics=True, downscale_factor=4)"
   ]
  },
  {
   "cell_type": "code",
   "execution_count": null,
   "metadata": {},
   "outputs": [],
   "source": [
    "show_cluster_images(img, h, n_clust)"
   ]
  },
  {
   "cell_type": "markdown",
   "metadata": {},
   "source": [
    "### Asbestos SA"
   ]
  },
  {
   "cell_type": "code",
   "execution_count": null,
   "metadata": {},
   "outputs": [],
   "source": [
    "imgfiles = imgutils.getimgfiles('../data/Asbestos_Aug30/SA_Tileset','.tif')\n",
    "imgfilename = imgfiles[0]\n",
    "img, h = run_new_pipeline(imgfilename, patch_size, n_clust, return_cluster_image=True,show_diagnostics=True, downscale_factor=4)"
   ]
  },
  {
   "cell_type": "code",
   "execution_count": null,
   "metadata": {},
   "outputs": [],
   "source": [
    "show_cluster_images(img, h, n_clust)"
   ]
  },
  {
   "cell_type": "code",
   "execution_count": null,
   "metadata": {},
   "outputs": [],
   "source": [
    "imgfilename = imgfiles[9]\n",
    "img, h = run_new_pipeline(imgfilename, patch_size, n_clust, return_cluster_image=True,show_diagnostics=True, downscale_factor=4)"
   ]
  },
  {
   "cell_type": "code",
   "execution_count": null,
   "metadata": {},
   "outputs": [],
   "source": [
    "show_cluster_images(img, h, n_clust)"
   ]
  },
  {
   "cell_type": "code",
   "execution_count": null,
   "metadata": {},
   "outputs": [],
   "source": []
  },
  {
   "cell_type": "code",
   "execution_count": null,
   "metadata": {},
   "outputs": [],
   "source": []
  },
  {
   "cell_type": "markdown",
   "metadata": {},
   "source": [
    "<hr/>\n",
    "# Try on multiple data sets - 5 Clusters"
   ]
  },
  {
   "cell_type": "code",
   "execution_count": null,
   "metadata": {},
   "outputs": [],
   "source": []
  },
  {
   "cell_type": "code",
   "execution_count": null,
   "metadata": {},
   "outputs": [],
   "source": [
    "n_clust = 5\n",
    "patch_size = (10,10)"
   ]
  },
  {
   "cell_type": "markdown",
   "metadata": {},
   "source": [
    "### realxtals lm (hard)"
   ]
  },
  {
   "cell_type": "code",
   "execution_count": null,
   "metadata": {},
   "outputs": [],
   "source": [
    "imgfiles = imgutils.getimgfiles('../data/Crystals_Apr_12/Tileset6_subset_1K','.tif')\n",
    "imgfilename = imgfiles[0]\n",
    "img, h = run_new_pipeline(imgfilename, patch_size, n_clust, return_cluster_image=True, downscale_factor=4)"
   ]
  },
  {
   "cell_type": "code",
   "execution_count": null,
   "metadata": {},
   "outputs": [],
   "source": [
    "show_cluster_images(img, h, n_clust)"
   ]
  },
  {
   "cell_type": "markdown",
   "metadata": {},
   "source": [
    "### realxtals sa"
   ]
  },
  {
   "cell_type": "code",
   "execution_count": null,
   "metadata": {},
   "outputs": [],
   "source": [
    "imgfiles = imgutils.getimgfiles('../data/Crystals_Apr_12/Tileset7_1K','.tif')\n",
    "imgfilename = imgfiles[0]\n",
    "img, h = run_new_pipeline(imgfilename, patch_size, n_clust, return_cluster_image=True, downscale_factor=4)"
   ]
  },
  {
   "cell_type": "code",
   "execution_count": null,
   "metadata": {},
   "outputs": [],
   "source": [
    "show_cluster_images(img, h, n_clust)"
   ]
  },
  {
   "cell_type": "markdown",
   "metadata": {},
   "source": [
    "### Asbestos LM"
   ]
  },
  {
   "cell_type": "code",
   "execution_count": null,
   "metadata": {},
   "outputs": [],
   "source": [
    "imgfiles = imgutils.getimgfiles('../data/Asbestos_Aug30/LM_Tileset','.tif')\n",
    "imgfilename = imgfiles[0]\n",
    "img, h = run_new_pipeline(imgfilename, patch_size, n_clust, return_cluster_image=True,show_diagnostics=True, downscale_factor=4)"
   ]
  },
  {
   "cell_type": "code",
   "execution_count": null,
   "metadata": {},
   "outputs": [],
   "source": [
    "show_cluster_images(img, h, n_clust)"
   ]
  },
  {
   "cell_type": "markdown",
   "metadata": {},
   "source": [
    "### Asbestos SA"
   ]
  },
  {
   "cell_type": "code",
   "execution_count": null,
   "metadata": {},
   "outputs": [],
   "source": [
    "imgfiles = imgutils.getimgfiles('../data/Asbestos_Aug30/SA_Tileset','.tif')\n",
    "imgfilename = imgfiles[0]\n",
    "img, h = run_new_pipeline(imgfilename, patch_size, n_clust, return_cluster_image=True,show_diagnostics=True, downscale_factor=4)"
   ]
  },
  {
   "cell_type": "code",
   "execution_count": null,
   "metadata": {},
   "outputs": [],
   "source": [
    "show_cluster_images(img, h, n_clust)"
   ]
  },
  {
   "cell_type": "code",
   "execution_count": null,
   "metadata": {},
   "outputs": [],
   "source": [
    "imgfilename = imgfiles[9]\n",
    "img, h = run_new_pipeline(imgfilename, patch_size, n_clust, return_cluster_image=True,show_diagnostics=True, downscale_factor=4)"
   ]
  },
  {
   "cell_type": "code",
   "execution_count": null,
   "metadata": {},
   "outputs": [],
   "source": [
    "show_cluster_images(img, h, n_clust)"
   ]
  },
  {
   "cell_type": "markdown",
   "metadata": {},
   "source": [
    "## 3 clusters, choose one as overlay"
   ]
  },
  {
   "cell_type": "code",
   "execution_count": null,
   "metadata": {},
   "outputs": [],
   "source": [
    "imgfiles = imgutils.getimgfiles('../data/Asbestos_Aug30/SA_Tileset','.tif')\n",
    "imgfilename = imgfiles[9]\n",
    "img, h = run_new_pipeline(imgfilename, patch_size, 3, return_cluster_image=True,show_diagnostics=True, downscale_factor=4)"
   ]
  },
  {
   "cell_type": "code",
   "execution_count": null,
   "metadata": {},
   "outputs": [],
   "source": [
    "show_single_cluster_image(img, h, 1)"
   ]
  },
  {
   "cell_type": "markdown",
   "metadata": {},
   "source": [
    "### run asbestos SA with black once more but with hierarchical:\n",
    "\n",
    "(needs more downscaling as hierarchical cannot run on large sets)"
   ]
  },
  {
   "cell_type": "code",
   "execution_count": null,
   "metadata": {},
   "outputs": [],
   "source": [
    "imgfiles = imgutils.getimgfiles('../data/Asbestos_Aug30/SA_Tileset','.tif')\n",
    "imgfilename = imgfiles[0]\n",
    "img, h = run_new_pipeline(imgfilename, (10,10), n_clust, return_cluster_image=True, algorithm='hierarchical', show_diagnostics=True, downscale_factor=10)"
   ]
  },
  {
   "cell_type": "code",
   "execution_count": null,
   "metadata": {},
   "outputs": [],
   "source": [
    "show_cluster_images(img, h, n_clust)"
   ]
  },
  {
   "cell_type": "code",
   "execution_count": null,
   "metadata": {},
   "outputs": [],
   "source": []
  }
 ],
 "metadata": {
  "kernelspec": {
   "display_name": "Python 3",
   "language": "python",
   "name": "python3"
  },
  "language_info": {
   "codemirror_mode": {
    "name": "ipython",
    "version": 3
   },
   "file_extension": ".py",
   "mimetype": "text/x-python",
   "name": "python",
   "nbconvert_exporter": "python",
   "pygments_lexer": "ipython3",
   "version": "3.6.4"
  }
 },
 "nbformat": 4,
 "nbformat_minor": 2
}
